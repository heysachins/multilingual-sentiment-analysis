{
 "cells": [
  {
   "cell_type": "markdown",
   "metadata": {},
   "source": [
    "# Finding sentences with x label disagreements"
   ]
  },
  {
   "cell_type": "markdown",
   "metadata": {},
   "source": [
    "## Import Statements"
   ]
  },
  {
   "cell_type": "code",
   "execution_count": 17,
   "metadata": {},
   "outputs": [],
   "source": [
    "import pandas as pd"
   ]
  },
  {
   "cell_type": "markdown",
   "metadata": {},
   "source": [
    "# need to open the file and store it in a dataframe"
   ]
  },
  {
   "cell_type": "code",
   "execution_count": 64,
   "metadata": {},
   "outputs": [],
   "source": [
    "def fetch_annotation_sheet(directory):\n",
    "    # Initialize an empty DataFrame to append all data\n",
    "    df = pd.DataFrame()\n",
    "\n",
    "    # Read the Excel file and append it to the all_data DataFrame\n",
    "    df = pd.read_excel(directory, sheet_name='Malayalam_Sentences')\n",
    "\n",
    "    # Now, all_data contains all the data from the Excel file\n",
    "    # print(df)\n",
    "    return df"
   ]
  },
  {
   "cell_type": "code",
   "execution_count": 65,
   "metadata": {},
   "outputs": [],
   "source": [
    "def find_disagreements(df,numOfLabels):\n",
    "   # Assuming df is your DataFrame\n",
    "    \n",
    "    if numOfLabels == 2:  \n",
    "      column_indices = [2, 3]  # There are two columns for labels\n",
    "    elif numOfLabels == 3:\n",
    "      column_indices = [2, 3, 4]\n",
    "    elif numOfLabels == 4:\n",
    "      column_indices = [2, 3, 4, 5]\n",
    "    elif numOfLabels == 5:\n",
    "      column_indices = [2, 3, 4, 5, 6]\n",
    "    elif numOfLabels == 6:\n",
    "      column_indices = [2, 3, 4, 5, 6, 7]\n",
    "    # Creating a mask to identify rows with duplicates in the specified columns\n",
    "    # If there are only 2 unique values when you look at the three columns, then set duplicates to True\n",
    "    df['Disagreement'] = df.apply(lambda row: len(set(row.iloc[column_indices])) == len(row.iloc[column_indices]), axis=1)\n",
    "    disagreements_df = df[df['Disagreement']].copy()\n",
    "\n",
    "    print(disagreements_df)\n",
    "\n",
    "    return disagreements_df"
   ]
  },
  {
   "cell_type": "code",
   "execution_count": 66,
   "metadata": {},
   "outputs": [],
   "source": [
    "def export_to_excel(export_df,name):\n",
    "    # You can choose to save this DataFrame as an Excel file\n",
    "    # file_path = name '.xlsx'\n",
    "    export_df.to_excel(f'Resolve_Disagreements_{name}.xlsx', index=False)\n",
    "    print(\"exporting\")"
   ]
  },
  {
   "cell_type": "code",
   "execution_count": 67,
   "metadata": {},
   "outputs": [],
   "source": [
    "def start_process(name,path,numOfLabels):\n",
    "    # Specify the directory where your xlsx files are stored\n",
    "    directory = path+f'/{name}.xlsx'\n",
    "    data = fetch_annotation_sheet(directory)\n",
    "    export_df = find_disagreements(data,numOfLabels)\n",
    "    print(export_df)\n",
    "    export_to_excel(export_df,name)"
   ]
  },
  {
   "cell_type": "code",
   "execution_count": 68,
   "metadata": {},
   "outputs": [
    {
     "name": "stdout",
     "output_type": "stream",
     "text": [
      "             id                                      text Participant 1  \\\n",
      "6   ml_sen_1244  Mamangam on Nov 21st.. in 4 language....      Positive   \n",
      "11  ml_sen_1272         Porinju mariam jose review by kid       Neutral   \n",
      "\n",
      "    Participant 6   Participant 5   Participant 3 Participant 2  Disagreement  \n",
      "6         Neutral  Mixed feelings   Not-Malayalam       Neutral          True  \n",
      "11  Not-Malayalam        Positive  Mixed feelings       Neutral          True  \n",
      "             id                                      text Participant 1  \\\n",
      "6   ml_sen_1244  Mamangam on Nov 21st.. in 4 language....      Positive   \n",
      "11  ml_sen_1272         Porinju mariam jose review by kid       Neutral   \n",
      "\n",
      "    Participant 6   Participant 5   Participant 3 Participant 2  Disagreement  \n",
      "6         Neutral  Mixed feelings   Not-Malayalam       Neutral          True  \n",
      "11  Not-Malayalam        Positive  Mixed feelings       Neutral          True  \n",
      "exporting\n"
     ]
    }
   ],
   "source": [
    "name=['Participant_1_6_5_3']\n",
    "# /Users/sachin/Downloads/Assessing Labels/5th Stage - 5th Annotator/Combined - 5 Labels/Participant_1_2_4_6.xlsx\n",
    "# 4th Stage - 4th Annotator/Group 1/Combined/Participant_1_2_4_6.xlsx\n",
    "# /Users/sachin/Downloads/Assessing Labels/6th Stage/Combined - 6 Labels/Participant_3_4_1_6_5_2_1.xlsx\n",
    "path = f'/Users/sachin/Downloads/Assessing Labels/4th Stage - 4th Annotator/Group 4/Combined'\n",
    "# path = f'/Users/sachin/Downloads/Assessing Labels/3rd Stage - 3rd Annotator/Group 3/Combined - 3 Labels'\n",
    "numOfLabels=4\n",
    "for i in name:\n",
    "    start_process(i,path,numOfLabels)"
   ]
  }
 ],
 "metadata": {
  "kernelspec": {
   "display_name": "ml_env",
   "language": "python",
   "name": "python3"
  },
  "language_info": {
   "codemirror_mode": {
    "name": "ipython",
    "version": 3
   },
   "file_extension": ".py",
   "mimetype": "text/x-python",
   "name": "python",
   "nbconvert_exporter": "python",
   "pygments_lexer": "ipython3",
   "version": "3.12.2"
  }
 },
 "nbformat": 4,
 "nbformat_minor": 2
}
