{
 "cells": [
  {
   "cell_type": "markdown",
   "metadata": {},
   "source": [
    "# Import Statements"
   ]
  },
  {
   "cell_type": "code",
   "execution_count": 43,
   "metadata": {},
   "outputs": [],
   "source": [
    "import pandas as pd # Imported to enable the use of datastructures like dataframe\n",
    "from sklearn.feature_extraction.text import TfidfVectorizer # Imported to convert raw documents into a matrix of tf idf features\n",
    "from sklearn.linear_model import LogisticRegression # Imported to enable the use of logistic regression to classify text\n",
    "from sklearn.model_selection import train_test_split # Imported to enable the user to split the data into train, test samples\n",
    "from sklearn.metrics import classification_report, accuracy_score # Imported to calculate the accuracy and also print the classification report\n"
   ]
  },
  {
   "cell_type": "markdown",
   "metadata": {},
   "source": [
    "# Importing the dataset"
   ]
  },
  {
   "cell_type": "code",
   "execution_count": 44,
   "metadata": {},
   "outputs": [
    {
     "name": "stdout",
     "output_type": "stream",
     "text": [
      "                                                   text         category\n",
      "0                hoo mammokka police vesham aaha anthas        Positive \n",
      "1        Oru rekshayum illa...kidilam kannu nananjupoyi        Positive \n",
      "2                             Ikka     waiting.........        Positive \n",
      "3                Raju Ettante Oro Shorttum Ijathi ppwli        Positive \n",
      "4      Ettan fansil netti poya aarenkilum undo?    #...        Positive \n",
      "...                                                 ...              ...\n",
      "4846   Madhuraraja trailer Kand ivide vannanvar likkeee   unknown_state \n",
      "4847   Njn pru lalettan fan ahn..  eee trailer mass ...        Positive \n",
      "4848   Valiya pratheesha illa nalla entertainment  a...  Mixed_feelings \n",
      "4849   Dislike adikkunna kazhuthakalude mukhath adik...        Negative \n",
      "4850   Adipoli..... Pakshe oru sankadam ithinte thir...  Mixed_feelings \n",
      "\n",
      "[4851 rows x 2 columns]\n"
     ]
    }
   ],
   "source": [
    "df = pd.read_csv('malayalam_train.tsv', sep='\\t')\n",
    "print(df)"
   ]
  },
  {
   "cell_type": "markdown",
   "metadata": {},
   "source": [
    "# Preprocess the data (Add Later)"
   ]
  },
  {
   "cell_type": "markdown",
   "metadata": {},
   "source": [
    "# Exploring the dataset"
   ]
  },
  {
   "cell_type": "code",
   "execution_count": 45,
   "metadata": {},
   "outputs": [
    {
     "name": "stdout",
     "output_type": "stream",
     "text": [
      "(4851, 2)\n"
     ]
    },
    {
     "data": {
      "text/html": [
       "<div>\n",
       "<style scoped>\n",
       "    .dataframe tbody tr th:only-of-type {\n",
       "        vertical-align: middle;\n",
       "    }\n",
       "\n",
       "    .dataframe tbody tr th {\n",
       "        vertical-align: top;\n",
       "    }\n",
       "\n",
       "    .dataframe thead th {\n",
       "        text-align: right;\n",
       "    }\n",
       "</style>\n",
       "<table border=\"1\" class=\"dataframe\">\n",
       "  <thead>\n",
       "    <tr style=\"text-align: right;\">\n",
       "      <th></th>\n",
       "      <th>text</th>\n",
       "      <th>category</th>\n",
       "    </tr>\n",
       "  </thead>\n",
       "  <tbody>\n",
       "    <tr>\n",
       "      <th>0</th>\n",
       "      <td>hoo mammokka police vesham aaha anthas</td>\n",
       "      <td>Positive</td>\n",
       "    </tr>\n",
       "    <tr>\n",
       "      <th>1</th>\n",
       "      <td>Oru rekshayum illa...kidilam kannu nananjupoyi</td>\n",
       "      <td>Positive</td>\n",
       "    </tr>\n",
       "    <tr>\n",
       "      <th>2</th>\n",
       "      <td>Ikka     waiting.........</td>\n",
       "      <td>Positive</td>\n",
       "    </tr>\n",
       "    <tr>\n",
       "      <th>3</th>\n",
       "      <td>Raju Ettante Oro Shorttum Ijathi ppwli</td>\n",
       "      <td>Positive</td>\n",
       "    </tr>\n",
       "    <tr>\n",
       "      <th>4</th>\n",
       "      <td>Ettan fansil netti poya aarenkilum undo?    #...</td>\n",
       "      <td>Positive</td>\n",
       "    </tr>\n",
       "  </tbody>\n",
       "</table>\n",
       "</div>"
      ],
      "text/plain": [
       "                                                text   category\n",
       "0             hoo mammokka police vesham aaha anthas  Positive \n",
       "1     Oru rekshayum illa...kidilam kannu nananjupoyi  Positive \n",
       "2                          Ikka     waiting.........  Positive \n",
       "3             Raju Ettante Oro Shorttum Ijathi ppwli  Positive \n",
       "4   Ettan fansil netti poya aarenkilum undo?    #...  Positive "
      ]
     },
     "execution_count": 45,
     "metadata": {},
     "output_type": "execute_result"
    }
   ],
   "source": [
    "print(df.shape)\n",
    "df.head()"
   ]
  },
  {
   "cell_type": "code",
   "execution_count": 50,
   "metadata": {},
   "outputs": [
    {
     "name": "stdout",
     "output_type": "stream",
     "text": [
      "                                                   text category\n",
      "7                1 day achu 5 million views kooda varla  Neutral\n",
      "9                           I a m a katta mammookka fan  Neutral\n",
      "13     Dislike adikan keri like adichath njaan mathr...  Neutral\n",
      "14                 Enada Oru English comment kuda kanom  Neutral\n",
      "20     Ithu  Verum unda alla Machinegun  Nirachum un...  Neutral\n",
      "...                                                 ...      ...\n",
      "4836   പഠിച്ച കള്ളനാ... Like അടി മക്കളെ... Frst time...  Neutral\n",
      "4839   Trillernu vandi wait cheydhadh njan maathrama...  Neutral\n",
      "4841   Padam kandathinte shesham trailer kannunna et...  Neutral\n",
      "4843                       soubin fans like adi makkale  Neutral\n",
      "4846   Madhuraraja trailer Kand ivide vannanvar likkeee  Neutral\n",
      "\n",
      "[1344 rows x 2 columns]\n"
     ]
    }
   ],
   "source": [
    "\n",
    "print(df.loc[df['category'] == 'Neutral'])"
   ]
  },
  {
   "cell_type": "code",
   "execution_count": 48,
   "metadata": {},
   "outputs": [
    {
     "name": "stdout",
     "output_type": "stream",
     "text": [
      "Positive      2022\n",
      "Neutral       1344\n",
      "Irrelevant     647\n",
      "Negative       549\n",
      "Mixed          289\n",
      "Name: category, dtype: int64\n"
     ]
    },
    {
     "data": {
      "text/plain": [
       "Positive      2022\n",
       "Neutral       1344\n",
       "Irrelevant     647\n",
       "Negative       549\n",
       "Mixed          289\n",
       "Name: category, dtype: int64"
      ]
     },
     "execution_count": 48,
     "metadata": {},
     "output_type": "execute_result"
    }
   ],
   "source": [
    "# Renaming the classes\n",
    "\n",
    "# Removing any leading/trailing spaces\n",
    "df['category'] = df['category'].str.strip()\n",
    "\n",
    "# Replacing 'unknown_state' with 'Irrelevant'\n",
    "df['category'] = df['category'].replace({'unknown_state': 'Neutral'})\n",
    "df['category'] = df['category'].replace({'Mixed_feelings': 'Mixed'})\n",
    "df['category'] = df['category'].replace({'not-malayalam': 'Irrelevant'})\n",
    "\n",
    "# Viewing the number of items in each class after replacement\n",
    "print(df['category'].value_counts())\n",
    "\n",
    "df.category.value_counts() # Used to view the number of items in each class.\n",
    "\n",
    "## There is a significant imbalance in the classes in this dataset"
   ]
  },
  {
   "cell_type": "markdown",
   "metadata": {},
   "source": [
    "### Renaming the columns for easiness"
   ]
  },
  {
   "cell_type": "code",
   "execution_count": 34,
   "metadata": {},
   "outputs": [
    {
     "name": "stdout",
     "output_type": "stream",
     "text": [
      "Positive      2022\n",
      "Neutral       1344\n",
      "Irrelevant     647\n",
      "Negative       549\n",
      "Mixed          289\n",
      "Name: category, dtype: int64\n"
     ]
    }
   ],
   "source": [
    "\n"
   ]
  },
  {
   "cell_type": "markdown",
   "metadata": {},
   "source": [
    "### Next we would need to map these classes into numbers for the machine learning model"
   ]
  },
  {
   "cell_type": "code",
   "execution_count": null,
   "metadata": {},
   "outputs": [],
   "source": [
    "df.category.map({\n",
    "    'Positive':0,\n",
    "    'Negative':1,\n",
    "    'unknown-state':2,\n",
    "    ''\n",
    "})"
   ]
  },
  {
   "cell_type": "code",
   "execution_count": null,
   "metadata": {},
   "outputs": [],
   "source": [
    "# Splitting the dataset\n",
    "X_train, X_test, y_train, y_test = train_test_split(\n",
    "    df.text, \n",
    "    df.category,\n",
    "    test_size=0.2, # 20 % of samples will be present in test dataset\n",
    "    random_state=42)\n",
    "\n",
    "# Vectorization using TF-IDF\n",
    "v = TfidfVectorizer()   \n",
    "X_train_tfidf = v.fit_transform(X_train)\n",
    "X_test_tfidf = v.transform(X_test)\n",
    "\n",
    "# Logistic Regression model\n",
    "log_reg = LogisticRegression()\n",
    "log_reg.fit(X_train_tfidf, y_train)\n",
    "\n",
    "# Predictions and evaluation\n",
    "predictions = log_reg.predict(X_test_tfidf)\n",
    "print(\"Accuracy:\", accuracy_score(y_test, predictions))\n",
    "print(classification_report(y_test, predictions))\n"
   ]
  }
 ],
 "metadata": {
  "kernelspec": {
   "display_name": "base",
   "language": "python",
   "name": "python3"
  },
  "language_info": {
   "codemirror_mode": {
    "name": "ipython",
    "version": 3
   },
   "file_extension": ".py",
   "mimetype": "text/x-python",
   "name": "python",
   "nbconvert_exporter": "python",
   "pygments_lexer": "ipython3",
   "version": "3.11.4"
  }
 },
 "nbformat": 4,
 "nbformat_minor": 2
}
