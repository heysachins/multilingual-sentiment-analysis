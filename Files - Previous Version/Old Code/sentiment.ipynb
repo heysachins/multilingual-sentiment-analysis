{
 "cells": [
  {
   "cell_type": "markdown",
   "metadata": {},
   "source": [
    "# Exploring Reproducibility of Human-Labelled Data for Sentiment Analysis"
   ]
  },
  {
   "cell_type": "markdown",
   "metadata": {},
   "source": [
    "In this notebook, we will look at classification models such as Linear Regression Model, BERT, and Large Language Model for extracting the sentiment behind code-mixed or code-switched data."
   ]
  },
  {
   "cell_type": "markdown",
   "metadata": {},
   "source": [
    "## Linear Regression:"
   ]
  },
  {
   "cell_type": "markdown",
   "metadata": {},
   "source": [
    "The steps that I have taken to approach this classification task is as follows:\n",
    "1. Initial Data Transformation.\n",
    "2. Visualising the Data.\n",
    "3. Text Analysis.\n",
    "4. Implementing Logistic Regression Model.\n",
    "5. Metrics.\n",
    "6. Prediction."
   ]
  },
  {
   "cell_type": "markdown",
   "metadata": {},
   "source": [
    "### 1. Initial Data Transformation"
   ]
  },
  {
   "cell_type": "markdown",
   "metadata": {},
   "source": [
    "Initially, essential packages for analyzing, vectorizing, and visualizing data, along with those aiding in model building, were imported as seen in the next cell."
   ]
  },
  {
   "cell_type": "code",
   "execution_count": null,
   "metadata": {},
   "outputs": [],
   "source": [
    "import numpy as np\n",
    "import pandas as p"
   ]
  }
 ],
 "metadata": {
  "kernelspec": {
   "display_name": "base",
   "language": "python",
   "name": "python3"
  },
  "language_info": {
   "name": "python",
   "version": "3.11.4"
  }
 },
 "nbformat": 4,
 "nbformat_minor": 2
}
