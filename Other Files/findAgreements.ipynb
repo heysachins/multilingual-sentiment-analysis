{
 "cells": [
  {
   "cell_type": "markdown",
   "metadata": {},
   "source": [
    "# Finding sentences with x label agreements"
   ]
  },
  {
   "cell_type": "markdown",
   "metadata": {},
   "source": [
    "## Import Statements"
   ]
  },
  {
   "cell_type": "code",
   "execution_count": 28,
   "metadata": {},
   "outputs": [],
   "source": [
    "import pandas as pd\n",
    "import os"
   ]
  },
  {
   "cell_type": "markdown",
   "metadata": {},
   "source": [
    "# need to open the file and store it in a dataframe"
   ]
  },
  {
   "cell_type": "code",
   "execution_count": 29,
   "metadata": {},
   "outputs": [],
   "source": [
    "def fetch_annotation_sheet(directory):\n",
    "    # Initialize an empty DataFrame to append all data\n",
    "    df = pd.DataFrame()\n",
    "\n",
    "    # Read the Excel file and append it to the all_data DataFrame\n",
    "    df = pd.read_excel(directory, sheet_name='Malayalam_Sentences')\n",
    "\n",
    "    # Now, all_data contains all the data from the Excel file\n",
    "    # print(df)\n",
    "    return df"
   ]
  },
  {
   "cell_type": "code",
   "execution_count": 60,
   "metadata": {},
   "outputs": [],
   "source": [
    "def find_agreements(df,numOfLabels):\n",
    "   # Assuming df is your DataFrame\n",
    "    \n",
    "    if numOfLabels == 2:  \n",
    "      column_indices = [2, 3]  # There are two columns for labels\n",
    "    elif numOfLabels == 3:\n",
    "      column_indices = [2, 3, 4]\n",
    "    elif numOfLabels == 4:\n",
    "      column_indices = [2, 3, 4, 5]\n",
    "    elif numOfLabels == 5:\n",
    "      column_indices = [2, 3, 4, 5, 6]\n",
    "    elif numOfLabels == 6:\n",
    "      column_indices = [2, 3, 4, 5, 6, 7]\n",
    "    # Creating a mask to identify rows with duplicates in the specified columns\n",
    "    # If there are only 2 unique values when you look at the three columns, then set duplicates to True\n",
    "    df['Agreement'] = df.apply(lambda row: len(set(row.iloc[column_indices])) != len(row.iloc[column_indices]), axis=1)\n",
    "    agreements_df = df[df['Agreement']].copy()\n",
    "\n",
    "    print(agreements_df.shape[1])\n",
    "\n",
    "    # Dropping columns from index 3 to the end, so that only one label is present for a single sentence\n",
    "    selected_columns=[]\n",
    "    for i in range(3,agreements_df.shape[1]):\n",
    "      selected_columns.append(i)\n",
    "    # Dropping the duplicate\n",
    "    \n",
    "    columnsToDrop=agreements_df.columns[selected_columns]\n",
    "    agreements_new_df=agreements_df.drop(columns=columnsToDrop)\n",
    "    \n",
    "    # now renaming the column\n",
    "    agreements_new_df.columns=['id','text','label']\n",
    "    return agreements_new_df"
   ]
  },
  {
   "cell_type": "code",
   "execution_count": 62,
   "metadata": {},
   "outputs": [],
   "source": [
    "def export_to_excel(export_df,name):\n",
    "    # You can choose to save this DataFrame as an Excel file\n",
    "    # file_path = name '.xlsx'\n",
    "    print(name)\n",
    "    export_df.to_excel(f'Agreements_{name}', index=False)\n",
    "    print(\"Exporting ... Done ... !\")"
   ]
  },
  {
   "cell_type": "code",
   "execution_count": 32,
   "metadata": {},
   "outputs": [],
   "source": [
    "def start_process(name,path,numOfLabels):\n",
    "    # Specify the directory where your xlsx files are stored\n",
    "    directory = path+f'/{name}'\n",
    "    data = fetch_annotation_sheet(directory)\n",
    "    export_df = find_agreements(data,numOfLabels)\n",
    "    print(export_df)\n",
    "    export_to_excel(export_df,name)"
   ]
  },
  {
   "cell_type": "code",
   "execution_count": 91,
   "metadata": {},
   "outputs": [],
   "source": [
    "def passFolderToStartProcess(mainFolder):\n",
    "    numOfLabels=2\n",
    "    \n",
    "    folder_path_G1=f\"{mainFolder}/Group 1/Combined\"\n",
    "    folder_path_G2=f\"{mainFolder}/Group 2/Combined\"\n",
    "    folder_path_G3=f\"{mainFolder}/Group 3/Combined\"\n",
    "    folder_path_G4=f\"{mainFolder}/Group 4/Combined\"\n",
    "\n",
    "#GROUP 1\n",
    "    xlsx_files = [file for file in os.listdir(folder_path_G1) if file.endswith('.xlsx')]\n",
    "    excelFiles=[]\n",
    "    for xlsx_file in xlsx_files:\n",
    "        if '~' not in xlsx_file:\n",
    "            excelFiles.append(xlsx_file)\n",
    "    # numOfLabels=2\n",
    "    start_process(excelFiles[0],folder_path_G1,numOfLabels)\n",
    "    \n",
    "#GROUP 2\n",
    "    xlsx_files = [file for file in os.listdir(folder_path_G2) if file.endswith('.xlsx')]\n",
    "    excelFiles=[]\n",
    "    for xlsx_file in xlsx_files:\n",
    "        if '~' not in xlsx_file:\n",
    "            excelFiles.append(xlsx_file)\n",
    "    # numOfLabels=2\n",
    "    start_process(excelFiles[0],folder_path_G2,numOfLabels)\n",
    "\n",
    "#GROUP 3\n",
    "    xlsx_files = [file for file in os.listdir(folder_path_G3) if file.endswith('.xlsx')]\n",
    "    excelFiles=[]\n",
    "    for xlsx_file in xlsx_files:\n",
    "        if '~' not in xlsx_file:\n",
    "            excelFiles.append(xlsx_file)\n",
    "    # numOfLabels=2\n",
    "    start_process(excelFiles[0],folder_path_G3,numOfLabels)\n",
    "#GROUP 4\n",
    "    xlsx_files = [file for file in os.listdir(folder_path_G4) if file.endswith('.xlsx')]\n",
    "    excelFiles=[]\n",
    "    for xlsx_file in xlsx_files:\n",
    "        if '~' not in xlsx_file:\n",
    "            excelFiles.append(xlsx_file)\n",
    "    # numOfLabels=2\n",
    "    start_process(excelFiles[0],folder_path_G4,numOfLabels)"
   ]
  },
  {
   "cell_type": "code",
   "execution_count": 90,
   "metadata": {},
   "outputs": [
    {
     "name": "stdout",
     "output_type": "stream",
     "text": [
      "8\n",
      "           id                                               text  \\\n",
      "0  ml_sen_683  Ekka trailer ethanel padham teatre pooraparamb...   \n",
      "\n",
      "            label  \n",
      "0  Mixed feelings  \n",
      "Participant_3_4_1_6_5_2_1.xlsx\n",
      "Exporting ... Done ... !\n"
     ]
    },
    {
     "ename": "FileNotFoundError",
     "evalue": "[Errno 2] No such file or directory: '6th Stage/Group 2/Combined'",
     "output_type": "error",
     "traceback": [
      "\u001b[0;31m---------------------------------------------------------------------------\u001b[0m",
      "\u001b[0;31mFileNotFoundError\u001b[0m                         Traceback (most recent call last)",
      "Cell \u001b[0;32mIn[90], line 5\u001b[0m\n\u001b[1;32m      1\u001b[0m \u001b[38;5;66;03m# passFolderToStartProcess(\"1st & 2nd Stages - Initial Annotation\")\u001b[39;00m\n\u001b[1;32m      2\u001b[0m \u001b[38;5;66;03m# passFolderToStartProcess(\"3rd Stage - 3rd Annotator\")\u001b[39;00m\n\u001b[1;32m      3\u001b[0m \u001b[38;5;66;03m# passFolderToStartProcess(\"4th Stage - 4th Annotator\")\u001b[39;00m\n\u001b[1;32m      4\u001b[0m \u001b[38;5;66;03m# passFolderToStartProcess(\"5th Stage - 5th Annotator\")\u001b[39;00m\n\u001b[0;32m----> 5\u001b[0m \u001b[43mpassFolderToStartProcess\u001b[49m\u001b[43m(\u001b[49m\u001b[38;5;124;43m\"\u001b[39;49m\u001b[38;5;124;43m6th Stage\u001b[39;49m\u001b[38;5;124;43m\"\u001b[39;49m\u001b[43m)\u001b[49m\n",
      "Cell \u001b[0;32mIn[89], line 19\u001b[0m, in \u001b[0;36mpassFolderToStartProcess\u001b[0;34m(mainFolder)\u001b[0m\n\u001b[1;32m     16\u001b[0m     start_process(excelFiles[\u001b[38;5;241m0\u001b[39m],folder_path_G1,numOfLabels)\n\u001b[1;32m     18\u001b[0m \u001b[38;5;66;03m#GROUP 2\u001b[39;00m\n\u001b[0;32m---> 19\u001b[0m     xlsx_files \u001b[38;5;241m=\u001b[39m [file \u001b[38;5;28;01mfor\u001b[39;00m file \u001b[38;5;129;01min\u001b[39;00m \u001b[43mos\u001b[49m\u001b[38;5;241;43m.\u001b[39;49m\u001b[43mlistdir\u001b[49m\u001b[43m(\u001b[49m\u001b[43mfolder_path_G2\u001b[49m\u001b[43m)\u001b[49m \u001b[38;5;28;01mif\u001b[39;00m file\u001b[38;5;241m.\u001b[39mendswith(\u001b[38;5;124m'\u001b[39m\u001b[38;5;124m.xlsx\u001b[39m\u001b[38;5;124m'\u001b[39m)]\n\u001b[1;32m     20\u001b[0m     excelFiles\u001b[38;5;241m=\u001b[39m[]\n\u001b[1;32m     21\u001b[0m     \u001b[38;5;28;01mfor\u001b[39;00m xlsx_file \u001b[38;5;129;01min\u001b[39;00m xlsx_files:\n",
      "\u001b[0;31mFileNotFoundError\u001b[0m: [Errno 2] No such file or directory: '6th Stage/Group 2/Combined'"
     ]
    }
   ],
   "source": [
    "#update the numof labels in the above function before executing this cell\n",
    "\n",
    "passFolderToStartProcess(\"1st & 2nd Stages - Initial Annotation\")\n",
    "# passFolderToStartProcess(\"3rd Stage - 3rd Annotator\")\n",
    "# passFolderToStartProcess(\"4th Stage - 4th Annotator\")\n",
    "# passFolderToStartProcess(\"5th Stage - 5th Annotator\")\n",
    "# passFolderToStartProcess(\"6th Stage\")"
   ]
  },
  {
   "cell_type": "code",
   "execution_count": null,
   "metadata": {},
   "outputs": [],
   "source": []
  },
  {
   "cell_type": "code",
   "execution_count": null,
   "metadata": {},
   "outputs": [],
   "source": []
  }
 ],
 "metadata": {
  "kernelspec": {
   "display_name": "ml_env",
   "language": "python",
   "name": "python3"
  },
  "language_info": {
   "codemirror_mode": {
    "name": "ipython",
    "version": 3
   },
   "file_extension": ".py",
   "mimetype": "text/x-python",
   "name": "python",
   "nbconvert_exporter": "python",
   "pygments_lexer": "ipython3",
   "version": "3.12.1"
  }
 },
 "nbformat": 4,
 "nbformat_minor": 2
}
