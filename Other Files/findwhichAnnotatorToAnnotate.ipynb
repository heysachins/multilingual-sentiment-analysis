{
 "cells": [
  {
   "cell_type": "markdown",
   "metadata": {},
   "source": [
    "# Finding sentences with x label disagreements"
   ]
  },
  {
   "cell_type": "markdown",
   "metadata": {},
   "source": [
    "## Import Statements"
   ]
  },
  {
   "cell_type": "code",
   "execution_count": 1,
   "metadata": {},
   "outputs": [],
   "source": [
    "import pandas as pd"
   ]
  },
  {
   "cell_type": "markdown",
   "metadata": {},
   "source": [
    "# need to open the file and store it in a dataframe"
   ]
  },
  {
   "cell_type": "code",
   "execution_count": 2,
   "metadata": {},
   "outputs": [],
   "source": [
    "def fetch_annotation_sheet(directory):\n",
    "    # Initialize an empty DataFrame to append all data\n",
    "    df = pd.DataFrame()\n",
    "\n",
    "    # Read the Excel file and append it to the all_data DataFrame\n",
    "    df = pd.read_excel(directory, sheet_name='Malayalam_Sentences')\n",
    "\n",
    "    # Now, all_data contains all the data from the Excel file\n",
    "    # print(df)\n",
    "    return df"
   ]
  },
  {
   "cell_type": "code",
   "execution_count": 10,
   "metadata": {},
   "outputs": [
    {
     "name": "stdout",
     "output_type": "stream",
     "text": [
      "(45, 3)\n",
      "            id                                           text Participant 5  \\\n",
      "15  ml_sen_926                             Pls watch Mammokka      Positive   \n",
      "16  ml_sen_981  Enne pole katta waiting ayi nikunavar adi oru       Neutral   \n",
      "\n",
      "   Participant 6 Participant 1&2 Participant 4 Participant 3  Disagreement  \n",
      "15       Neutral   Not-Malayalam       Neutral      Positive          True  \n",
      "16      Positive        Negative      Positive       Neutral          True  \n"
     ]
    }
   ],
   "source": [
    "##openining dataframe b?\n",
    "\n",
    "#need to import the files\n",
    "path_A='/Users/sachin/Library/CloudStorage/OneDrive-Heriot-WattUniversity/Assessing Labels/3rd Stage - 3rd Annotator/Group 3/Participant_5_6_v1.xlsx'\n",
    "path_B='/Users/sachin/Library/CloudStorage/OneDrive-Heriot-WattUniversity/Assessing Labels/3rd Stage - 3rd Annotator/Group 3/Resolve_Disagreements_Participant_5_6_2_1_4.xlsx'\n",
    "\n",
    "\n",
    "\n",
    "dfA=fetch_annotation_sheet(path_A)\n",
    "dfB=fetch_annotation_sheet(path_B)\n",
    "\n",
    "\n",
    "print(dfA.shape)\n",
    "\n",
    "matching_rows = dfB[dfB['id'].isin(dfA['id'])]\n",
    "print(matching_rows)\n",
    "\n",
    "matching_rows.to_excel(f'Participant_1_3rdGrp.xlsx', index=False)\n",
    "# User\n",
    "# I want to check if the values of a dataframe 'A' column are in another dataframe 'B', if so then select that subset from 'B'?\n",
    "\n",
    "#check chatGPT?"
   ]
  },
  {
   "cell_type": "code",
   "execution_count": 4,
   "metadata": {},
   "outputs": [
    {
     "name": "stdout",
     "output_type": "stream",
     "text": [
      "disagreement\n"
     ]
    }
   ],
   "source": [
    "\n",
    "# Function to check for both conditions\n",
    "\n",
    "# Extract the labels for the row\n",
    "labels = ['Mixed feelings','Negative','Negative','Mixed feelings','Positive']\n",
    "\n",
    "positive_count=labels.count('Positive')\n",
    "negative_count=labels.count('Negative')\n",
    "neutral_count=labels.count('Neutral')\n",
    "mixed_feelings_count=labels.count('Mixed feelings')\n",
    "not_malyalam_count=labels.count('Not-Malayalam')\n",
    "count_of_all_labels=[positive_count,negative_count,neutral_count,mixed_feelings_count,not_malyalam_count]\n",
    "\n",
    "count_of_all_labels.sort(reverse=True)\n",
    "# print(count_of)\n",
    "if(count_of_all_labels[0]==count_of_all_labels[1]):\n",
    "    print('disagreement')"
   ]
  },
  {
   "cell_type": "code",
   "execution_count": 5,
   "metadata": {},
   "outputs": [],
   "source": [
    "# Function to check for both conditions\n",
    "def check_disagreement(row,column_indices):\n",
    "    # column_indices = [2, 3, 4, 5, 6]\n",
    "    # Extract the labels for the row\n",
    "    labels=[]\n",
    "    labels = row.iloc[column_indices].tolist()\n",
    "\n",
    "    positive_count=labels.count('Positive')\n",
    "    negative_count=labels.count('Negative')\n",
    "    neutral_count=labels.count('Neutral')\n",
    "    mixed_feelings_count=labels.count('Mixed feelings')\n",
    "    not_malyalam_count=labels.count('Not-Malayalam')\n",
    "    count_of_all_labels=[positive_count,negative_count,neutral_count,mixed_feelings_count,not_malyalam_count]\n",
    "    \n",
    "    count_of_all_labels.sort(reverse=True)\n",
    "    # print(count_of)\n",
    "    if(count_of_all_labels[0]==count_of_all_labels[1]):\n",
    "        return True\n",
    "    else: \n",
    "        return False"
   ]
  },
  {
   "cell_type": "code",
   "execution_count": 6,
   "metadata": {},
   "outputs": [],
   "source": [
    "def find_disagreements(df,numOfLabels):\n",
    "   # Assuming df is your DataFrame\n",
    "    \n",
    "    if numOfLabels == 2:  \n",
    "      column_indices = [2, 3]  # There are two columns for labels\n",
    "    elif numOfLabels == 3:\n",
    "      column_indices = [2, 3, 4]\n",
    "    elif numOfLabels == 4:\n",
    "      column_indices = [2, 3, 4, 5]\n",
    "    elif numOfLabels == 5:\n",
    "      column_indices = [2, 3, 4, 5, 6]\n",
    "    elif numOfLabels == 6:\n",
    "      column_indices = [2, 3, 4, 5, 6, 7]\n",
    "    # Creating a mask to identify rows with duplicates in the specified columns\n",
    "    # If there are only 2 unique values when you look at the three columns, then set duplicates to True\n",
    "    df['Disagreement'] = df.apply(lambda row: check_disagreement(row,column_indices),axis=1)\n",
    "    disagreements_df = df[df['Disagreement']==True].copy()\n",
    "\n",
    "    print(disagreements_df)\n",
    "\n",
    "    return disagreements_df"
   ]
  },
  {
   "cell_type": "code",
   "execution_count": 7,
   "metadata": {},
   "outputs": [],
   "source": [
    "def export_to_excel(export_df,name):\n",
    "    # You can choose to save this DataFrame as an Excel file\n",
    "    # file_path = name '.xlsx'\n",
    "    export_df.to_excel(f'Resolve_Disagreements_{name}.xlsx', index=False)\n",
    "    print(\"exporting\")"
   ]
  },
  {
   "cell_type": "code",
   "execution_count": 8,
   "metadata": {},
   "outputs": [],
   "source": [
    "def start_process(name,path,numOfLabels):\n",
    "    # Specify the directory where your xlsx files are stored\n",
    "    directory = path+f'/{name}.xlsx'\n",
    "    data = fetch_annotation_sheet(directory)\n",
    "    export_df = find_disagreements(data,numOfLabels)\n",
    "    print(export_df)\n",
    "    export_to_excel(export_df,name)"
   ]
  },
  {
   "cell_type": "code",
   "execution_count": 13,
   "metadata": {},
   "outputs": [
    {
     "name": "stdout",
     "output_type": "stream",
     "text": [
      "             id                                               text  \\\n",
      "0   ml_sen_1316                            Marakkar  movie waiting   \n",
      "8   ml_sen_1252  Lucifer oppam pidichunilkanulla ella adavumaay...   \n",
      "12  ml_sen_1279  Lucifer thannee sheenam maarillaa aduthu kooth...   \n",
      "13  ml_sen_1288  Lalettan poli etra Kali kandath odakathe EE ka...   \n",
      "15  ml_sen_1298  Hindukallku Ivn Ravanan Muslingalkku Ivan Ible...   \n",
      "\n",
      "     Participant 1   Participant 6   Participant 5   Participant 3  \\\n",
      "0         Positive         Neutral  Mixed feelings        Positive   \n",
      "8          Neutral  Mixed feelings        Positive  Mixed feelings   \n",
      "12  Mixed feelings        Negative        Positive        Negative   \n",
      "13         Neutral        Negative        Positive        Negative   \n",
      "15         Neutral        Positive  Mixed feelings  Mixed feelings   \n",
      "\n",
      "   Participant 2  Disagreement  \n",
      "0        Neutral          True  \n",
      "8       Positive          True  \n",
      "12      Positive          True  \n",
      "13      Positive          True  \n",
      "15       Neutral          True  \n",
      "             id                                               text  \\\n",
      "0   ml_sen_1316                            Marakkar  movie waiting   \n",
      "8   ml_sen_1252  Lucifer oppam pidichunilkanulla ella adavumaay...   \n",
      "12  ml_sen_1279  Lucifer thannee sheenam maarillaa aduthu kooth...   \n",
      "13  ml_sen_1288  Lalettan poli etra Kali kandath odakathe EE ka...   \n",
      "15  ml_sen_1298  Hindukallku Ivn Ravanan Muslingalkku Ivan Ible...   \n",
      "\n",
      "     Participant 1   Participant 6   Participant 5   Participant 3  \\\n",
      "0         Positive         Neutral  Mixed feelings        Positive   \n",
      "8          Neutral  Mixed feelings        Positive  Mixed feelings   \n",
      "12  Mixed feelings        Negative        Positive        Negative   \n",
      "13         Neutral        Negative        Positive        Negative   \n",
      "15         Neutral        Positive  Mixed feelings  Mixed feelings   \n",
      "\n",
      "   Participant 2  Disagreement  \n",
      "0        Neutral          True  \n",
      "8       Positive          True  \n",
      "12      Positive          True  \n",
      "13      Positive          True  \n",
      "15       Neutral          True  \n",
      "exporting\n"
     ]
    }
   ],
   "source": [
    "name=['Participant_1_6_5_3']\n",
    "\n",
    "path = f'/Users/sachin/Downloads/Assessing Labels/4th Stage - 4th Annotator/Group 4/Combined'\n",
    "\n",
    "numOfLabels=5\n",
    "for i in name:\n",
    "    start_process(i,path,numOfLabels)"
   ]
  },
  {
   "cell_type": "code",
   "execution_count": null,
   "metadata": {},
   "outputs": [],
   "source": []
  }
 ],
 "metadata": {
  "kernelspec": {
   "display_name": "ml_env",
   "language": "python",
   "name": "python3"
  },
  "language_info": {
   "codemirror_mode": {
    "name": "ipython",
    "version": 3
   },
   "file_extension": ".py",
   "mimetype": "text/x-python",
   "name": "python",
   "nbconvert_exporter": "python",
   "pygments_lexer": "ipython3",
   "version": "3.12.2"
  }
 },
 "nbformat": 4,
 "nbformat_minor": 2
}
