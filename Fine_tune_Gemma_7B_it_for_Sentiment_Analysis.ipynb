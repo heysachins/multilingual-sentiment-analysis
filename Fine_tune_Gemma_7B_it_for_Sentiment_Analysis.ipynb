{
  "metadata": {
    "kaggle": {
      "accelerator": "gpu",
      "dataSources": [
        {
          "sourceId": 1192499,
          "sourceType": "datasetVersion",
          "datasetId": 622510
        },
        {
          "sourceId": 11261,
          "sourceType": "modelInstanceVersion",
          "modelInstanceId": 8332
        }
      ],
      "isInternetEnabled": true,
      "language": "python",
      "sourceType": "notebook",
      "isGpuEnabled": true
    },
    "kernelspec": {
      "display_name": "Python 3",
      "language": "python",
      "name": "python3"
    },
    "language_info": {
      "name": "python",
      "version": "3.10.13",
      "mimetype": "text/x-python",
      "codemirror_mode": {
        "name": "ipython",
        "version": 3
      },
      "pygments_lexer": "ipython3",
      "nbconvert_exporter": "python",
      "file_extension": ".py"
    },
    "papermill": {
      "default_parameters": {},
      "duration": 4190.684325,
      "end_time": "2023-12-17T22:21:21.061832",
      "environment_variables": {},
      "exception": null,
      "input_path": "__notebook__.ipynb",
      "output_path": "__notebook__.ipynb",
      "parameters": {},
      "start_time": "2023-12-17T21:11:30.377507",
      "version": "2.4.0"
    },
    "colab": {
      "name": "Fine-tune Gemma 7B it for Sentiment Analysis",
      "provenance": [],
      "include_colab_link": true
    }
  },
  "nbformat_minor": 0,
  "nbformat": 4,
  "cells": [
    {
      "cell_type": "markdown",
      "metadata": {
        "id": "view-in-github",
        "colab_type": "text"
      },
      "source": [
        "<a href=\"https://colab.research.google.com/github/heysachins/multilingual-sentiment-analysis/blob/main/Fine_tune_Gemma_7B_it_for_Sentiment_Analysis.ipynb\" target=\"_parent\"><img src=\"https://colab.research.google.com/assets/colab-badge.svg\" alt=\"Open In Colab\"/></a>"
      ]
    },
    {
      "cell_type": "markdown",
      "source": [
        "## Fine-tune Gemma 7B it for Sentiment Analysis\n",
        "\n",
        "For this hands-on tutorial on fine-tuning a Gemma 7B it, we are going to deal with a sentiment analysis on financial and economic information. Sentiment analysis on financial and economic information is highly relevant for businesses for several key reasons, ranging from market insights (gain valuable insights into market trends, investor confidence, and consumer behavior) to risk management (identifying potential reputational risks) to investment decisions (gauging the sentiment of stakeholders, investors, and the general public businesses can assess the potential success of various investment opportunities).\n",
        "\n",
        "Before the technicalities of fine-tuning a large language model like Gemma, we had to find the correct dataset to demonstrate the potentialities of fine-tuning.\n",
        "\n",
        "Particularly within the realm of finance and economic texts, annotated datasets are notably rare, with many being exclusively reserved for proprietary purposes. To address the issue of insufficient training data, scholars from the Aalto University School\n",
        "of Business introduced in 2014 a set of approximately 5000 sentences. This collection aimed to establish human-annotated benchmarks, serving as a standard for evaluating alternative modeling techniques. The involved annotators (16 people with\n",
        "adequate background knowledge on financial markets) were instructed to assess the sentences solely from the perspective of an investor, evaluating whether the news potentially holds a positive, negative, or neutral impact on the stock price.\n",
        "\n",
        "The FinancialPhraseBank dataset is a comprehensive collection that captures the sentiments of financial news headlines from the viewpoint of a retail investor. Comprising two key columns, namely \"Sentiment\" and \"News Headline,\" the dataset effectively classifies sentiments as either negative, neutral, or positive. This structured dataset serves as a valuable resource for analyzing and understanding the complex dynamics of sentiment in the domain of financial news. It has been used in various studies and research initiatives, since its inception in the work by Malo, P., Sinha, A., Korhonen, P., Wallenius, J., and Takala, P.  \"Good debt or bad debt: Detecting semantic orientations in economic texts.\", published in the Journal of the Association for Information Science and Technology in 2014."
      ],
      "metadata": {
        "papermill": {
          "duration": 0.008332,
          "end_time": "2023-12-17T21:11:33.795658",
          "exception": false,
          "start_time": "2023-12-17T21:11:33.787326",
          "status": "completed"
        },
        "tags": [],
        "id": "6cZQIXqBHydG"
      }
    },
    {
      "cell_type": "markdown",
      "source": [
        "As a first step, we install the specific libraries necessary to make this example work.\n",
        "\n",
        "* accelerate is a distributed training library for PyTorch by HuggingFace. It allows you to train your models on multiple GPUs or CPUs in parallel (distributed configurations), which can significantly speed up training in presence of multiple GPUs (we won't use it in our example).\n",
        "* peft is a Python library by HuggingFace for efficient adaptation of pre-trained language models (PLMs) to various downstream applications without fine-tuning all the model's parameters. PEFT methods only fine-tune a small number of (extra) model parameters, thereby greatly decreasing the computational and storage costs.\n",
        "* bitsandbytes by Tim Dettmers, is a lightweight wrapper around CUDA custom functions, in particular 8-bit optimizers, matrix multiplication (LLM.int8()), and quantization functions. It allows to run models stored in 4-bit precision: while 4-bit bitsandbytes stores weights in 4-bits, the computation still happens in 16 or 32-bit and here any combination can be chosen (float16, bfloat16, float32, and so on).\n",
        "* transformers is a Python library for natural language processing (NLP). It provides a number of pre-trained models for NLP tasks such as text classification, question answering, and machine translation.\n",
        "* trl is a full stack library by HuggingFace providing a set of tools to train transformer language models with Reinforcement Learning, from the Supervised Fine-tuning step (SFT), Reward Modeling step (RM) to the Proximal Policy Optimization (PPO) step."
      ],
      "metadata": {
        "papermill": {
          "duration": 0.007824,
          "end_time": "2023-12-17T21:11:33.811681",
          "exception": false,
          "start_time": "2023-12-17T21:11:33.803857",
          "status": "completed"
        },
        "tags": [],
        "id": "4Tc6nU56HydH"
      }
    },
    {
      "cell_type": "code",
      "source": [
        "!pip install -q -U \"torch==2.1.2\""
      ],
      "metadata": {
        "papermill": {
          "duration": 12.837112,
          "end_time": "2023-12-17T21:11:46.656292",
          "exception": false,
          "start_time": "2023-12-17T21:11:33.81918",
          "status": "completed"
        },
        "tags": [],
        "execution": {
          "iopub.status.busy": "2024-02-21T17:06:35.200183Z",
          "iopub.execute_input": "2024-02-21T17:06:35.20094Z",
          "iopub.status.idle": "2024-02-21T17:06:47.418824Z",
          "shell.execute_reply.started": "2024-02-21T17:06:35.200897Z",
          "shell.execute_reply": "2024-02-21T17:06:47.417595Z"
        },
        "trusted": true,
        "id": "SjNJ1NH0HydI"
      },
      "execution_count": null,
      "outputs": []
    },
    {
      "cell_type": "code",
      "source": [
        "!pip install -q -U \"transformers==4.38.0\" \"datasets==2.17.1\" \"accelerate==0.27.2\" \"bitsandbytes==0.42.0\""
      ],
      "metadata": {
        "papermill": {
          "duration": 25.835818,
          "end_time": "2023-12-17T21:12:12.500193",
          "exception": false,
          "start_time": "2023-12-17T21:11:46.664375",
          "status": "completed"
        },
        "tags": [],
        "execution": {
          "iopub.status.busy": "2024-02-21T17:06:47.421175Z",
          "iopub.execute_input": "2024-02-21T17:06:47.421556Z",
          "iopub.status.idle": "2024-02-21T17:07:24.423277Z",
          "shell.execute_reply.started": "2024-02-21T17:06:47.42152Z",
          "shell.execute_reply": "2024-02-21T17:07:24.422286Z"
        },
        "trusted": true,
        "id": "SGaJqyM1HydI"
      },
      "execution_count": null,
      "outputs": []
    },
    {
      "cell_type": "code",
      "source": [
        "!pip install -q -U git+https://github.com/huggingface/trl@a46cd84a6405312837f0d0e56fd1cf4d45585770\n",
        "!pip install -q -U git+https://github.com/huggingface/peft@2efc36ccdf130f03dae8e8468fa4caadc7b5d6f9"
      ],
      "metadata": {
        "execution": {
          "iopub.status.busy": "2024-02-21T17:07:24.424758Z",
          "iopub.execute_input": "2024-02-21T17:07:24.425143Z",
          "iopub.status.idle": "2024-02-21T17:08:19.743738Z",
          "shell.execute_reply.started": "2024-02-21T17:07:24.425103Z",
          "shell.execute_reply": "2024-02-21T17:08:19.742408Z"
        },
        "trusted": true,
        "id": "mF-ULpOSHydI"
      },
      "execution_count": null,
      "outputs": []
    },
    {
      "cell_type": "markdown",
      "source": [
        "The code imports the os module and sets two environment variables:\n",
        "* CUDA_VISIBLE_DEVICES: This environment variable tells PyTorch which GPUs to use. In this case, the code is setting the environment variable to 0, which means that PyTorch will use the first GPU.\n",
        "* TOKENIZERS_PARALLELISM: This environment variable tells the Hugging Face Transformers library whether to parallelize the tokenization process. In this case, the code is setting the environment variable to false, which means that the tokenization process will not be parallelized."
      ],
      "metadata": {
        "papermill": {
          "duration": 0.007787,
          "end_time": "2023-12-17T21:12:12.516026",
          "exception": false,
          "start_time": "2023-12-17T21:12:12.508239",
          "status": "completed"
        },
        "tags": [],
        "id": "3_OLIKXDHydI"
      }
    },
    {
      "cell_type": "code",
      "source": [
        "import os\n",
        "os.environ[\"CUDA_VISIBLE_DEVICES\"] = \"0\"\n",
        "os.environ[\"TOKENIZERS_PARALLELISM\"] = \"false\""
      ],
      "metadata": {
        "papermill": {
          "duration": 0.015679,
          "end_time": "2023-12-17T21:12:12.539544",
          "exception": false,
          "start_time": "2023-12-17T21:12:12.523865",
          "status": "completed"
        },
        "tags": [],
        "execution": {
          "iopub.status.busy": "2024-02-21T17:08:19.746927Z",
          "iopub.execute_input": "2024-02-21T17:08:19.747719Z",
          "iopub.status.idle": "2024-02-21T17:08:19.752448Z",
          "shell.execute_reply.started": "2024-02-21T17:08:19.747679Z",
          "shell.execute_reply": "2024-02-21T17:08:19.751539Z"
        },
        "trusted": true,
        "id": "tCqYArEqHydI"
      },
      "execution_count": null,
      "outputs": []
    },
    {
      "cell_type": "markdown",
      "source": [
        "The code import warnings; warnings.filterwarnings(\"ignore\") imports the warnings module and sets the warning filter to ignore. This means that all warnings will be suppressed and will not be displayed. Actually during training there are many warnings that do not prevent the fine-tuning but can be distracting and make you wonder if you are doing the correct things."
      ],
      "metadata": {
        "papermill": {
          "duration": 0.007538,
          "end_time": "2023-12-17T21:12:12.555014",
          "exception": false,
          "start_time": "2023-12-17T21:12:12.547476",
          "status": "completed"
        },
        "tags": [],
        "id": "2W_0DoTcHydJ"
      }
    },
    {
      "cell_type": "code",
      "source": [
        "import warnings\n",
        "warnings.filterwarnings(\"ignore\")"
      ],
      "metadata": {
        "papermill": {
          "duration": 0.01423,
          "end_time": "2023-12-17T21:12:12.576944",
          "exception": false,
          "start_time": "2023-12-17T21:12:12.562714",
          "status": "completed"
        },
        "tags": [],
        "execution": {
          "iopub.status.busy": "2024-02-21T17:08:19.754344Z",
          "iopub.execute_input": "2024-02-21T17:08:19.754707Z",
          "iopub.status.idle": "2024-02-21T17:08:19.766686Z",
          "shell.execute_reply.started": "2024-02-21T17:08:19.754675Z",
          "shell.execute_reply": "2024-02-21T17:08:19.765884Z"
        },
        "trusted": true,
        "id": "MBre1shyHydJ"
      },
      "execution_count": null,
      "outputs": []
    },
    {
      "cell_type": "markdown",
      "source": [
        "In the following cell there are all the other imports for running the notebook"
      ],
      "metadata": {
        "papermill": {
          "duration": 0.007919,
          "end_time": "2023-12-17T21:12:12.592609",
          "exception": false,
          "start_time": "2023-12-17T21:12:12.58469",
          "status": "completed"
        },
        "tags": [],
        "id": "F1e0_LijHydJ"
      }
    },
    {
      "cell_type": "code",
      "source": [
        "import numpy as np\n",
        "import pandas as pd\n",
        "import os\n",
        "from tqdm import tqdm\n",
        "\n",
        "import torch\n",
        "import torch.nn as nn\n",
        "\n",
        "import transformers\n",
        "from transformers import (AutoModelForCausalLM,\n",
        "                          AutoTokenizer,\n",
        "                          BitsAndBytesConfig,\n",
        "                          TrainingArguments,\n",
        "                          pipeline,\n",
        "                          logging)\n",
        "from datasets import Dataset\n",
        "from peft import LoraConfig, PeftConfig\n",
        "import bitsandbytes as bnb\n",
        "from trl import SFTTrainer\n",
        "\n",
        "from sklearn.metrics import (accuracy_score,\n",
        "                             classification_report,\n",
        "                             confusion_matrix)\n",
        "from sklearn.model_selection import train_test_split"
      ],
      "metadata": {
        "papermill": {
          "duration": 19.450408,
          "end_time": "2023-12-17T21:12:32.05101",
          "exception": false,
          "start_time": "2023-12-17T21:12:12.600602",
          "status": "completed"
        },
        "tags": [],
        "execution": {
          "iopub.status.busy": "2024-02-21T17:08:19.767882Z",
          "iopub.execute_input": "2024-02-21T17:08:19.768211Z",
          "iopub.status.idle": "2024-02-21T17:08:40.224032Z",
          "shell.execute_reply.started": "2024-02-21T17:08:19.768181Z",
          "shell.execute_reply": "2024-02-21T17:08:40.223038Z"
        },
        "trusted": true,
        "id": "-o3uyDtRHydJ"
      },
      "execution_count": null,
      "outputs": []
    },
    {
      "cell_type": "markdown",
      "source": [
        "The code in the next cell performs the following steps:\n",
        "\n",
        "1. Reads the input dataset from the all-data.csv file, which is a comma-separated value (CSV) file with two columns: sentiment and text.\n",
        "2. Splits the dataset into training and test sets, with 300 samples in each set. The split is stratified by sentiment, so that each set contains a representative sample of positive, neutral, and negative sentiments.\n",
        "3. Shuffles the train data in a replicable order (random_state=10)\n",
        "4. Transforms the texts contained in the train and test data into prompts to be used by Gemma: the train prompts contains the expected answer we want to fine-tune the model with\n",
        "5. The residual examples not in train or test, for reporting purposes during training (but it won't be used for early stopping), is treated as evaluation data, which is sampled with repetition in order to have a 50/50/50 sample (negative instances are very few, hence they should be repeated)\n",
        "5. The train and eval data are wrapped by the class from Hugging Face (https://huggingface.co/docs/datasets/index)\n",
        "\n",
        "This prepares in a single cell train_data, eval_data and test_data datasets to be used in our fine tuning."
      ],
      "metadata": {
        "papermill": {
          "duration": 0.007659,
          "end_time": "2023-12-17T21:12:32.067388",
          "exception": false,
          "start_time": "2023-12-17T21:12:32.059729",
          "status": "completed"
        },
        "tags": [],
        "id": "weXYh7WNHydJ"
      }
    },
    {
      "cell_type": "code",
      "source": [
        "filename = \"../input/sentiment-analysis-for-financial-news/all-data.csv\"\n",
        "\n",
        "df = pd.read_csv(filename,\n",
        "                 names=[\"sentiment\", \"text\"],\n",
        "                 encoding=\"utf-8\", encoding_errors=\"replace\")\n",
        "\n",
        "X_train = list()\n",
        "X_test = list()\n",
        "for sentiment in [\"positive\", \"neutral\", \"negative\"]:\n",
        "    train, test  = train_test_split(df[df.sentiment==sentiment],\n",
        "                                    train_size=300,\n",
        "                                    test_size=300,\n",
        "                                    random_state=42)\n",
        "    X_train.append(train)\n",
        "    X_test.append(test)\n",
        "\n",
        "X_train = pd.concat(X_train).sample(frac=1, random_state=10)\n",
        "X_test = pd.concat(X_test)\n",
        "\n",
        "eval_idx = [idx for idx in df.index if idx not in list(train.index) + list(test.index)]\n",
        "X_eval = df[df.index.isin(eval_idx)]\n",
        "X_eval = (X_eval\n",
        "          .groupby('sentiment', group_keys=False)\n",
        "          .apply(lambda x: x.sample(n=50, random_state=10, replace=True)))\n",
        "X_train = X_train.reset_index(drop=True)\n",
        "\n",
        "def generate_prompt(data_point):\n",
        "    return f\"\"\"\n",
        "            Analyze the sentiment of the news headline enclosed in square brackets,\n",
        "            determine if it is positive, neutral, or negative, and return the answer as\n",
        "            the corresponding sentiment label \"positive\" or \"neutral\" or \"negative\"\n",
        "\n",
        "            [{data_point[\"text\"]}] = {data_point[\"sentiment\"]}\n",
        "            \"\"\".strip()\n",
        "\n",
        "def generate_test_prompt(data_point):\n",
        "    return f\"\"\"\n",
        "            Analyze the sentiment of the news headline enclosed in square brackets,\n",
        "            determine if it is positive, neutral, or negative, and return the answer as\n",
        "            the corresponding sentiment label \"positive\" or \"neutral\" or \"negative\"\n",
        "\n",
        "            [{data_point[\"text\"]}] =\n",
        "\n",
        "            \"\"\".strip()\n",
        "\n",
        "X_train = pd.DataFrame(X_train.apply(generate_prompt, axis=1),\n",
        "                       columns=[\"text\"])\n",
        "X_eval = pd.DataFrame(X_eval.apply(generate_prompt, axis=1),\n",
        "                      columns=[\"text\"])\n",
        "\n",
        "y_true = X_test.sentiment\n",
        "X_test = pd.DataFrame(X_test.apply(generate_test_prompt, axis=1), columns=[\"text\"])\n",
        "\n",
        "train_data = Dataset.from_pandas(X_train)\n",
        "eval_data = Dataset.from_pandas(X_eval)"
      ],
      "metadata": {
        "papermill": {
          "duration": 0.526476,
          "end_time": "2023-12-17T21:12:32.601566",
          "exception": false,
          "start_time": "2023-12-17T21:12:32.07509",
          "status": "completed"
        },
        "tags": [],
        "execution": {
          "iopub.status.busy": "2024-02-21T17:08:40.225321Z",
          "iopub.execute_input": "2024-02-21T17:08:40.225621Z",
          "iopub.status.idle": "2024-02-21T17:08:40.753122Z",
          "shell.execute_reply.started": "2024-02-21T17:08:40.225596Z",
          "shell.execute_reply": "2024-02-21T17:08:40.752342Z"
        },
        "trusted": true,
        "id": "BxCkiBhTHydJ"
      },
      "execution_count": null,
      "outputs": []
    },
    {
      "cell_type": "markdown",
      "source": [
        "Next we create a function to evaluate the results from our fine-tuned sentiment model. The function performs the following steps:\n",
        "\n",
        "1. Maps the sentiment labels to a numerical representation, where 2 represents positive, 1 represents neutral, and 0 represents negative.\n",
        "2. Calculates the accuracy of the model on the test data.\n",
        "3. Generates an accuracy report for each sentiment label.\n",
        "4. Generates a classification report for the model.\n",
        "5. Generates a confusion matrix for the model."
      ],
      "metadata": {
        "papermill": {
          "duration": 0.010178,
          "end_time": "2023-12-17T21:12:32.639198",
          "exception": false,
          "start_time": "2023-12-17T21:12:32.62902",
          "status": "completed"
        },
        "tags": [],
        "id": "ux7QqOdoHydJ"
      }
    },
    {
      "cell_type": "code",
      "source": [
        "def evaluate(y_true, y_pred):\n",
        "    labels = ['positive', 'neutral', 'negative']\n",
        "    mapping = {'positive': 2, 'neutral': 1, 'none':1, 'negative': 0}\n",
        "    def map_func(x):\n",
        "        return mapping.get(x, 1)\n",
        "\n",
        "    y_true = np.vectorize(map_func)(y_true)\n",
        "    y_pred = np.vectorize(map_func)(y_pred)\n",
        "\n",
        "    # Calculate accuracy\n",
        "    accuracy = accuracy_score(y_true=y_true, y_pred=y_pred)\n",
        "    print(f'Accuracy: {accuracy:.3f}')\n",
        "\n",
        "    # Generate accuracy report\n",
        "    unique_labels = set(y_true)  # Get unique labels\n",
        "\n",
        "    for label in unique_labels:\n",
        "        label_indices = [i for i in range(len(y_true))\n",
        "                         if y_true[i] == label]\n",
        "        label_y_true = [y_true[i] for i in label_indices]\n",
        "        label_y_pred = [y_pred[i] for i in label_indices]\n",
        "        accuracy = accuracy_score(label_y_true, label_y_pred)\n",
        "        print(f'Accuracy for label {label}: {accuracy:.3f}')\n",
        "\n",
        "    # Generate classification report\n",
        "    class_report = classification_report(y_true=y_true, y_pred=y_pred)\n",
        "    print('\\nClassification Report:')\n",
        "    print(class_report)\n",
        "\n",
        "    # Generate confusion matrix\n",
        "    conf_matrix = confusion_matrix(y_true=y_true, y_pred=y_pred, labels=[0, 1, 2])\n",
        "    print('\\nConfusion Matrix:')\n",
        "    print(conf_matrix)"
      ],
      "metadata": {
        "papermill": {
          "duration": 0.021281,
          "end_time": "2023-12-17T21:12:32.668587",
          "exception": false,
          "start_time": "2023-12-17T21:12:32.647306",
          "status": "completed"
        },
        "tags": [],
        "execution": {
          "iopub.status.busy": "2024-02-21T17:08:40.754143Z",
          "iopub.execute_input": "2024-02-21T17:08:40.754474Z",
          "iopub.status.idle": "2024-02-21T17:08:40.767588Z",
          "shell.execute_reply.started": "2024-02-21T17:08:40.754447Z",
          "shell.execute_reply": "2024-02-21T17:08:40.766624Z"
        },
        "trusted": true,
        "id": "-f9TPdiTHydK"
      },
      "execution_count": null,
      "outputs": []
    },
    {
      "cell_type": "markdown",
      "source": [
        "Next we need to take care of the model, which is a 7b-v0.1-hf (7 billion parameters, version 0.1, in the HuggingFace compatible format), loading from Kaggle models and quantization.\n",
        "\n",
        "Model loading and quantization:\n",
        "\n",
        "* First the code loads the Gemma 7B it language model from the Hugging Face Hub.\n",
        "* Then the code gets the float16 data type from the torch library. This is the data type that will be used for the computations.\n",
        "* Next, it creates a BitsAndBytesConfig object with the following settings:\n",
        "    1. load_in_4bit: Load the model weights in 4-bit format.\n",
        "    2. bnb_4bit_quant_type: Use the \"nf4\" quantization type. 4-bit NormalFloat (NF4), is a new data type that is information theoretically optimal for normally distributed weights.\n",
        "    3. bnb_4bit_compute_dtype: Use the float16 data type for computations.\n",
        "    4. bnb_4bit_use_double_quant: Do not use double quantization (reduces the average memory footprint by quantizing also the quantization constants and saves an additional 0.4 bits per parameter.).\n",
        "* Then the code creates a AutoModelForCausalLM object from the pre-trained Gemma 7B it language model, using the BitsAndBytesConfig object for quantization.\n",
        "* After that, the code disables caching for the model.\n",
        "* Finally the code sets the pre-training token probability to 1.\n",
        "\n",
        "Tokenizer loading:\n",
        "\n",
        "* First, the code loads the tokenizer for the Gemma 7B it language model.\n",
        "* Then it sets the padding token to be the end-of-sequence (EOS) token.\n",
        "* Finally, the code sets the padding side to be \"left\", which means that the input sequences will be padded on the left side."
      ],
      "metadata": {
        "papermill": {
          "duration": 0.007594,
          "end_time": "2023-12-17T21:12:32.68439",
          "exception": false,
          "start_time": "2023-12-17T21:12:32.676796",
          "status": "completed"
        },
        "tags": [],
        "id": "51HhxgTtHydK"
      }
    },
    {
      "cell_type": "code",
      "source": [
        "model_name = \"/kaggle/input/gemma/transformers/7b-it/1\"\n",
        "\n",
        "compute_dtype = getattr(torch, \"float16\")\n",
        "\n",
        "bnb_config = BitsAndBytesConfig(\n",
        "    load_in_4bit=True,\n",
        "    bnb_4bit_use_double_quant=False,\n",
        "    bnb_4bit_quant_type=\"nf4\",\n",
        "    bnb_4bit_compute_dtype=compute_dtype,\n",
        ")\n",
        "\n",
        "model = AutoModelForCausalLM.from_pretrained(\n",
        "    model_name,\n",
        "    device_map=\"auto\",\n",
        "    quantization_config=bnb_config,\n",
        ")\n",
        "\n",
        "model.config.use_cache = False\n",
        "model.config.pretraining_tp = 1\n",
        "\n",
        "tokenizer = AutoTokenizer.from_pretrained(model_name)"
      ],
      "metadata": {
        "papermill": {
          "duration": 88.5779,
          "end_time": "2023-12-17T21:14:01.271091",
          "exception": false,
          "start_time": "2023-12-17T21:12:32.693191",
          "status": "completed"
        },
        "tags": [],
        "execution": {
          "iopub.status.busy": "2024-02-21T17:08:40.76886Z",
          "iopub.execute_input": "2024-02-21T17:08:40.76921Z",
          "iopub.status.idle": "2024-02-21T17:10:47.843215Z",
          "shell.execute_reply.started": "2024-02-21T17:08:40.769181Z",
          "shell.execute_reply": "2024-02-21T17:10:47.842405Z"
        },
        "trusted": true,
        "id": "okFQAyJqHydK"
      },
      "execution_count": null,
      "outputs": []
    },
    {
      "cell_type": "markdown",
      "source": [
        "In the next cell, we set a function for predicting the sentiment of a news headline using the Gemma 7B it language model. The function takes three arguments:\n",
        "\n",
        "test: A Pandas DataFrame containing the news headlines to be predicted.\n",
        "model: The pre-trained Gemma 7B it language model.\n",
        "tokenizer: The tokenizer for the Gemma 7B it language model.\n",
        "\n",
        "The function works as follows:\n",
        "\n",
        "1. For each news headline in the test DataFrame:\n",
        "    * Create a prompt for the language model, which asks it to analyze the sentiment of the news headline and return the corresponding sentiment label.\n",
        "    * Use the pipeline() function from the Hugging Face Transformers library to generate text from the language model, using the prompt.\n",
        "    * Extract the predicted sentiment label from the generated text.\n",
        "    * Append the predicted sentiment label to the y_pred list.\n",
        "2. Return the y_pred list.\n",
        "\n",
        "The pipeline() function from the Hugging Face Transformers library is used to generate text from the language model. The task argument specifies that the task is text generation. The model and tokenizer arguments specify the pre-trained Gemma 7B it language model and the tokenizer for the language model. The max_new_tokens argument specifies the maximum number of new tokens to generate. The temperature argument controls the randomness of the generated text. A lower temperature will produce more predictable text, while a higher temperature will produce more creative and unexpected text.\n",
        "\n",
        "The if statement checks if the generated text contains the word \"positive\". If it does, then the predicted sentiment label is \"positive\". Otherwise, the if statement checks if the generated text contains the word \"negative\". If it does, then the predicted sentiment label is \"negative\". Otherwise, the if statement checks if the generated text contains the word \"neutral\". If it does, then the predicted sentiment label is \"neutral."
      ],
      "metadata": {
        "papermill": {
          "duration": 0.009804,
          "end_time": "2023-12-17T21:14:01.291046",
          "exception": false,
          "start_time": "2023-12-17T21:14:01.281242",
          "status": "completed"
        },
        "tags": [],
        "id": "mZlfSf2xHydK"
      }
    },
    {
      "cell_type": "code",
      "source": [
        "def predict(X_test, model, tokenizer):\n",
        "    y_pred = []\n",
        "    for i in tqdm(range(len(X_test))):\n",
        "        prompt = X_test.iloc[i][\"text\"]\n",
        "        input_ids = tokenizer(prompt, return_tensors=\"pt\").to(\"cuda\")\n",
        "        outputs = model.generate(**input_ids, max_new_tokens=1, temperature=0.0)\n",
        "        result = tokenizer.decode(outputs[0])\n",
        "        answer = result.split(\"=\")[-1].lower()\n",
        "        if \"positive\" in answer:\n",
        "            y_pred.append(\"positive\")\n",
        "        elif \"negative\" in answer:\n",
        "            y_pred.append(\"negative\")\n",
        "        elif \"neutral\" in answer:\n",
        "            y_pred.append(\"neutral\")\n",
        "        else:\n",
        "            y_pred.append(\"none\")\n",
        "    return y_pred"
      ],
      "metadata": {
        "papermill": {
          "duration": 0.020352,
          "end_time": "2023-12-17T21:14:01.321014",
          "exception": false,
          "start_time": "2023-12-17T21:14:01.300662",
          "status": "completed"
        },
        "tags": [],
        "execution": {
          "iopub.status.busy": "2024-02-21T17:10:47.84573Z",
          "iopub.execute_input": "2024-02-21T17:10:47.846046Z",
          "iopub.status.idle": "2024-02-21T17:10:47.853599Z",
          "shell.execute_reply.started": "2024-02-21T17:10:47.846019Z",
          "shell.execute_reply": "2024-02-21T17:10:47.852657Z"
        },
        "trusted": true,
        "id": "MGVXbBNRHydK"
      },
      "execution_count": null,
      "outputs": []
    },
    {
      "cell_type": "markdown",
      "source": [
        "At this point, we are ready to test the Gemma 7B it model and see how it performs on our problem without any fine-tuning. This allows us to get insights on the model itself and establish a baseline."
      ],
      "metadata": {
        "papermill": {
          "duration": 0.009582,
          "end_time": "2023-12-17T21:14:01.340377",
          "exception": false,
          "start_time": "2023-12-17T21:14:01.330795",
          "status": "completed"
        },
        "tags": [],
        "id": "8-0Zn5cFHydK"
      }
    },
    {
      "cell_type": "code",
      "source": [
        "y_pred = predict(X_test, model, tokenizer)"
      ],
      "metadata": {
        "papermill": {
          "duration": 366.910332,
          "end_time": "2023-12-17T21:20:08.260576",
          "exception": false,
          "start_time": "2023-12-17T21:14:01.350244",
          "status": "completed"
        },
        "tags": [],
        "execution": {
          "iopub.status.busy": "2024-02-21T17:06:24.500446Z",
          "iopub.execute_input": "2024-02-21T17:06:24.500891Z",
          "iopub.status.idle": "2024-02-21T17:06:24.531432Z",
          "shell.execute_reply.started": "2024-02-21T17:06:24.500852Z",
          "shell.execute_reply": "2024-02-21T17:06:24.530034Z"
        },
        "trusted": true,
        "id": "vhPNARuyHydL"
      },
      "execution_count": null,
      "outputs": []
    },
    {
      "cell_type": "markdown",
      "source": [
        "In the following cell, we evaluate the results. There is little to be said, it is performing really terribly because the 7b-hf model tends to just predict a neutral sentiment and seldom it detects positive or negative sentiment."
      ],
      "metadata": {
        "papermill": {
          "duration": 0.078787,
          "end_time": "2023-12-17T21:20:08.418105",
          "exception": false,
          "start_time": "2023-12-17T21:20:08.339318",
          "status": "completed"
        },
        "tags": [],
        "id": "HSHRVGk8HydL"
      }
    },
    {
      "cell_type": "code",
      "source": [
        "evaluate(y_true, y_pred)"
      ],
      "metadata": {
        "papermill": {
          "duration": 0.115727,
          "end_time": "2023-12-17T21:20:08.612213",
          "exception": false,
          "start_time": "2023-12-17T21:20:08.496486",
          "status": "completed"
        },
        "tags": [],
        "execution": {
          "iopub.status.busy": "2024-02-21T16:40:42.058126Z",
          "iopub.execute_input": "2024-02-21T16:40:42.058487Z",
          "iopub.status.idle": "2024-02-21T16:40:42.078203Z",
          "shell.execute_reply.started": "2024-02-21T16:40:42.058461Z",
          "shell.execute_reply": "2024-02-21T16:40:42.077329Z"
        },
        "trusted": true,
        "id": "_xjtQNEdHydL"
      },
      "execution_count": null,
      "outputs": []
    },
    {
      "cell_type": "markdown",
      "source": [
        "In the next cell we set everything ready for the fine-tuning. We configures and initializes a Simple Fine-tuning Trainer (SFTTrainer) for training a large language model using the Parameter-Efficient Fine-Tuning (PEFT) method, which should save time as it operates on a reduced number of parameters compared to the model's overall size. The PEFT method focuses on refining a limited set of (additional) model parameters, while keeping the majority of the pre-trained LLM parameters fixed. This significantly reduces both computational and storage expenses. Additionally, this strategy addresses the challenge of catastrophic forgetting, which often occurs during the complete fine-tuning of LLMs.\n",
        "\n",
        "PEFTConfig:\n",
        "\n",
        "The peft_config object specifies the parameters for PEFT. The following are some of the most important parameters:\n",
        "\n",
        "* lora_alpha: The learning rate for the LoRA update matrices.\n",
        "* lora_dropout: The dropout probability for the LoRA update matrices.\n",
        "* r: The rank of the LoRA update matrices.\n",
        "* bias: The type of bias to use. The possible values are none, additive, and learned.\n",
        "* task_type: The type of task that the model is being trained for. The possible values are CAUSAL_LM and MASKED_LM.\n",
        "\n",
        "TrainingArguments:\n",
        "\n",
        "The training_arguments object specifies the parameters for training the model. The following are some of the most important parameters:\n",
        "\n",
        "* output_dir: The directory where the training logs and checkpoints will be saved.\n",
        "* num_train_epochs: The number of epochs to train the model for.\n",
        "* per_device_train_batch_size: The number of samples in each batch on each device.\n",
        "* gradient_accumulation_steps: The number of batches to accumulate gradients before updating the model parameters.\n",
        "* optim: The optimizer to use for training the model.\n",
        "* save_steps: The number of steps after which to save a checkpoint.\n",
        "* logging_steps: The number of steps after which to log the training metrics.\n",
        "* learning_rate: The learning rate for the optimizer.\n",
        "* weight_decay: The weight decay parameter for the optimizer.\n",
        "* fp16: Whether to use 16-bit floating-point precision.\n",
        "* bf16: Whether to use BFloat16 precision.\n",
        "* max_grad_norm: The maximum gradient norm.\n",
        "* max_steps: The maximum number of steps to train the model for.\n",
        "* warmup_ratio: The proportion of the training steps to use for warming up the learning rate.\n",
        "* group_by_length: Whether to group the training samples by length.\n",
        "* lr_scheduler_type: The type of learning rate scheduler to use.\n",
        "* report_to: The tools to report the training metrics to.\n",
        "* evaluation_strategy: The strategy for evaluating the model during training.\n",
        "\n",
        "SFTTrainer:\n",
        "\n",
        "The SFTTrainer is a custom trainer class from the PEFT library. It is used to train large language models using the PEFT method.\n",
        "\n",
        "The SFTTrainer object is initialized with the following arguments:\n",
        "\n",
        "* model: The model to be trained.\n",
        "* train_dataset: The training dataset.\n",
        "* eval_dataset: The evaluation dataset.\n",
        "* peft_config: The PEFT configuration.\n",
        "* dataset_text_field: The name of the text field in the dataset.\n",
        "* tokenizer: The tokenizer to use.\n",
        "* args: The training arguments.\n",
        "* packing: Whether to pack the training samples.\n",
        "* max_seq_length: The maximum sequence length.\n",
        "\n",
        "Once the SFTTrainer object is initialized, it can be used to train the model by calling the train() method"
      ],
      "metadata": {
        "papermill": {
          "duration": 0.078192,
          "end_time": "2023-12-17T21:20:08.781177",
          "exception": false,
          "start_time": "2023-12-17T21:20:08.702985",
          "status": "completed"
        },
        "tags": [],
        "id": "6FwdlRUEHydL"
      }
    },
    {
      "cell_type": "code",
      "source": [
        "peft_config = LoraConfig(\n",
        "    lora_alpha=16,\n",
        "    lora_dropout=0.1,\n",
        "    r=64,\n",
        "    bias=\"none\",\n",
        "    task_type=\"CAUSAL_LM\",\n",
        "    target_modules=\"all-linear\",\n",
        ")\n",
        "\n",
        "training_arguments = TrainingArguments(\n",
        "    output_dir=\"logs\",\n",
        "    num_train_epochs=3,\n",
        "    per_device_train_batch_size=1,\n",
        "    gradient_accumulation_steps=8,\n",
        "    optim=\"paged_adamw_32bit\",\n",
        "    save_steps=0,\n",
        "    logging_steps=25,\n",
        "    learning_rate=2e-4,\n",
        "    weight_decay=0.001,\n",
        "    fp16=True,\n",
        "    bf16=False,\n",
        "    max_grad_norm=0.3,\n",
        "    max_steps=-1,\n",
        "    warmup_ratio=0.03,\n",
        "    group_by_length=True,\n",
        "    lr_scheduler_type=\"cosine\",\n",
        "    report_to=\"tensorboard\",\n",
        "    do_eval=False,\n",
        "    evaluation_strategy=\"no\",\n",
        ")\n",
        "\n",
        "trainer = SFTTrainer(\n",
        "    model=model,\n",
        "    train_dataset=train_data,\n",
        "    peft_config=peft_config,\n",
        "    dataset_text_field=\"text\",\n",
        "    tokenizer=tokenizer,\n",
        "    args=training_arguments,\n",
        "    packing=False,\n",
        "    max_seq_length=1024,\n",
        ")"
      ],
      "metadata": {
        "papermill": {
          "duration": 0.907911,
          "end_time": "2023-12-17T21:20:09.767766",
          "exception": false,
          "start_time": "2023-12-17T21:20:08.859855",
          "status": "completed"
        },
        "tags": [],
        "execution": {
          "iopub.status.busy": "2024-02-21T17:10:47.854801Z",
          "iopub.execute_input": "2024-02-21T17:10:47.85516Z",
          "iopub.status.idle": "2024-02-21T17:10:51.274813Z",
          "shell.execute_reply.started": "2024-02-21T17:10:47.855127Z",
          "shell.execute_reply": "2024-02-21T17:10:51.274028Z"
        },
        "trusted": true,
        "id": "MYJS1Ob1HydL"
      },
      "execution_count": null,
      "outputs": []
    },
    {
      "cell_type": "markdown",
      "source": [
        "The following code will train the model using the trainer.train() method and then save the trained model to the trained-model directory. Using The standard GPU P100 offered by Kaggle, the training should be quite fast."
      ],
      "metadata": {
        "papermill": {
          "duration": 0.079217,
          "end_time": "2023-12-17T21:20:09.927263",
          "exception": false,
          "start_time": "2023-12-17T21:20:09.848046",
          "status": "completed"
        },
        "tags": [],
        "id": "tirR3JYoHydL"
      }
    },
    {
      "cell_type": "code",
      "source": [
        "# Train model\n",
        "trainer.train()\n",
        "\n",
        "# Save trained model\n",
        "trainer.model.save_pretrained(\"trained-model\")"
      ],
      "metadata": {
        "papermill": {
          "duration": 3279.391068,
          "end_time": "2023-12-17T22:14:49.397236",
          "exception": false,
          "start_time": "2023-12-17T21:20:10.006168",
          "status": "completed"
        },
        "tags": [],
        "execution": {
          "iopub.status.busy": "2024-02-21T17:10:51.275858Z",
          "iopub.execute_input": "2024-02-21T17:10:51.276125Z"
        },
        "trusted": true,
        "id": "3oLewRM2HydL"
      },
      "execution_count": null,
      "outputs": []
    },
    {
      "cell_type": "markdown",
      "source": [
        "Afterwards, loading the TensorBoard extension and start TensorBoard, pointing to the logs/runs directory, which is assumed to contain the training logs and checkpoints for your model, will allow you to understand how the models fits during the training."
      ],
      "metadata": {
        "papermill": {
          "duration": 0.080308,
          "end_time": "2023-12-17T22:14:49.560957",
          "exception": false,
          "start_time": "2023-12-17T22:14:49.480649",
          "status": "completed"
        },
        "tags": [],
        "id": "d7lKNH7_HydL"
      }
    },
    {
      "cell_type": "code",
      "source": [
        "%load_ext tensorboard\n",
        "%tensorboard --logdir logs/runs"
      ],
      "metadata": {
        "papermill": {
          "duration": 7.617207,
          "end_time": "2023-12-17T22:14:57.258758",
          "exception": false,
          "start_time": "2023-12-17T22:14:49.641551",
          "status": "completed"
        },
        "tags": [],
        "trusted": true,
        "id": "J5eZgkLIHydM"
      },
      "execution_count": null,
      "outputs": []
    },
    {
      "cell_type": "markdown",
      "source": [
        "The following code will first predict the sentiment labels for the test set using the predict() function. Then, it will evaluate the model's performance on the test set using the evaluate() function. The result now should be impressive with an overall accuracy of over 0.8 and high accuracy, precision and recall for the single sentiment labels. The prediction of the neutral label can still be improved, yet it is impressive how much could be done with little data and some fine-tuning."
      ],
      "metadata": {
        "papermill": {
          "duration": 0.079228,
          "end_time": "2023-12-17T22:14:57.418749",
          "exception": false,
          "start_time": "2023-12-17T22:14:57.339521",
          "status": "completed"
        },
        "tags": [],
        "id": "2KnhZYQMHydM"
      }
    },
    {
      "cell_type": "code",
      "source": [
        "y_pred = predict(X_test, model, tokenizer)\n",
        "evaluate(y_true, y_pred)"
      ],
      "metadata": {
        "papermill": {
          "duration": 379.935342,
          "end_time": "2023-12-17T22:21:17.436577",
          "exception": false,
          "start_time": "2023-12-17T22:14:57.501235",
          "status": "completed"
        },
        "tags": [],
        "trusted": true,
        "id": "XjaWkUP8HydM"
      },
      "execution_count": null,
      "outputs": []
    },
    {
      "cell_type": "markdown",
      "source": [
        "The following code will create a Pandas DataFrame called evaluation containing the text, true labels, and predicted labels from the test set. This is expectially useful for understanding the errors that the fine-tuned model makes, and gettting insights on how to improve the prompt."
      ],
      "metadata": {
        "papermill": {
          "duration": 0.150244,
          "end_time": "2023-12-17T22:21:17.743482",
          "exception": false,
          "start_time": "2023-12-17T22:21:17.593238",
          "status": "completed"
        },
        "tags": [],
        "id": "dT-pMOVVHydM"
      }
    },
    {
      "cell_type": "code",
      "source": [
        "evaluation = pd.DataFrame({'text': X_test[\"text\"],\n",
        "                           'y_true':y_true,\n",
        "                           'y_pred': y_pred},\n",
        "                         )\n",
        "evaluation.to_csv(\"test_predictions.csv\", index=False)"
      ],
      "metadata": {
        "papermill": {
          "duration": 0.182657,
          "end_time": "2023-12-17T22:21:18.077143",
          "exception": false,
          "start_time": "2023-12-17T22:21:17.894486",
          "status": "completed"
        },
        "tags": [],
        "trusted": true,
        "id": "zTN_gZNwHydM"
      },
      "execution_count": null,
      "outputs": []
    }
  ]
}