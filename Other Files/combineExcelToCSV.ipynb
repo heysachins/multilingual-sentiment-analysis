{
 "cells": [
  {
   "cell_type": "code",
   "execution_count": 1,
   "metadata": {},
   "outputs": [],
   "source": [
    "import os\n",
    "import pandas as pd"
   ]
  },
  {
   "cell_type": "code",
   "execution_count": 7,
   "metadata": {},
   "outputs": [],
   "source": [
    "def combine_excel_files(root_directory):\n",
    "    for group_folder in os.listdir(root_directory):\n",
    "        group_path = os.path.join(root_directory, group_folder)\n",
    "        if os.path.isdir(group_path):\n",
    "            combined_data = []  # List to store data from all files in the group\n",
    "\n",
    "            for participant_folder in os.listdir(group_path):\n",
    "                participant_path = os.path.join(group_path, participant_folder)\n",
    "                if os.path.isdir(participant_path):\n",
    "                    for file in os.listdir(participant_path):\n",
    "                        if file.endswith('.xlsx'):\n",
    "                            file_path = os.path.join(participant_path, file)\n",
    "                            # Read the 'Malayalam_Sentences' sheet\n",
    "                            df = pd.read_excel(file_path, sheet_name='Malayalam_Sentences')\n",
    "                            combined_data.append(df)\n",
    "\n",
    "            # Combine all data into a single DataFrame\n",
    "            combined_df = pd.concat(combined_data, ignore_index=True)\n",
    "\n",
    "            # Save the combined DataFrame to a CSV file in the group folder\n",
    "            combined_csv_path = os.path.join('/Users/sachin/Downloads/Assessing Labels/Group 1/Participant 1/')\n",
    "            combined_df.to_csv(combined_csv_path, index=False)"
   ]
  },
  {
   "cell_type": "code",
   "execution_count": 8,
   "metadata": {},
   "outputs": [],
   "source": [
    "# Example usage\n",
    "root_directory = '/Users/sachin/Downloads/Assessing Labels/Group 1/Participant 4'  # Replace with the path to your root directory\n",
    "combine_excel_files(root_directory)"
   ]
  }
 ],
 "metadata": {
  "kernelspec": {
   "display_name": "base",
   "language": "python",
   "name": "python3"
  },
  "language_info": {
   "codemirror_mode": {
    "name": "ipython",
    "version": 3
   },
   "file_extension": ".py",
   "mimetype": "text/x-python",
   "name": "python",
   "nbconvert_exporter": "python",
   "pygments_lexer": "ipython3",
   "version": "3.11.5"
  }
 },
 "nbformat": 4,
 "nbformat_minor": 2
}
