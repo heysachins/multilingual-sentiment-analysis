{
 "cells": [
  {
   "cell_type": "markdown",
   "metadata": {},
   "source": [
    "# Finding sentences with x label disagreements"
   ]
  },
  {
   "cell_type": "markdown",
   "metadata": {},
   "source": [
    "## Import Statements"
   ]
  },
  {
   "cell_type": "code",
   "execution_count": 3,
   "metadata": {},
   "outputs": [],
   "source": [
    "import pandas as pd"
   ]
  },
  {
   "cell_type": "markdown",
   "metadata": {},
   "source": [
    "# need to open the file and store it in a dataframe"
   ]
  },
  {
   "cell_type": "code",
   "execution_count": 4,
   "metadata": {},
   "outputs": [],
   "source": [
    "def fetch_annotation_sheet(directory):\n",
    "    # Initialize an empty DataFrame to append all data\n",
    "    df = pd.DataFrame()\n",
    "\n",
    "    # Read the Excel file and append it to the all_data DataFrame\n",
    "    df = pd.read_excel(directory, sheet_name='Malayalam_Sentences')\n",
    "\n",
    "    # Now, all_data contains all the data from the Excel file\n",
    "    # print(df)\n",
    "    return df"
   ]
  },
  {
   "cell_type": "code",
   "execution_count": 5,
   "metadata": {},
   "outputs": [
    {
     "name": "stdout",
     "output_type": "stream",
     "text": [
      "disagreement\n"
     ]
    }
   ],
   "source": [
    "# Function to check for both conditions\n",
    "\n",
    "# Extract the labels for the row\n",
    "labels = ['Mixed feelings','Negative','Negative','Mixed feelings','Positive']\n",
    "\n",
    "positive_count=labels.count('Positive')\n",
    "negative_count=labels.count('Negative')\n",
    "neutral_count=labels.count('Neutral')\n",
    "mixed_feelings_count=labels.count('Mixed feelings')\n",
    "not_malyalam_count=labels.count('Not-Malayalam')\n",
    "count_of_all_labels=[positive_count,negative_count,neutral_count,mixed_feelings_count,not_malyalam_count]\n",
    "\n",
    "count_of_all_labels.sort(reverse=True)\n",
    "# print(count_of)\n",
    "if(count_of_all_labels[0]==count_of_all_labels[1]):\n",
    "    print('disagreement')"
   ]
  },
  {
   "cell_type": "code",
   "execution_count": 6,
   "metadata": {},
   "outputs": [],
   "source": [
    "# Function to check for both conditions\n",
    "def check_disagreement(row,column_indices):\n",
    "    # column_indices = [2, 3, 4, 5, 6]\n",
    "    # Extract the labels for the row\n",
    "    labels=[]\n",
    "    labels = row.iloc[column_indices].tolist()\n",
    "\n",
    "    positive_count=labels.count('Positive')\n",
    "    negative_count=labels.count('Negative')\n",
    "    neutral_count=labels.count('Neutral')\n",
    "    mixed_feelings_count=labels.count('Mixed feelings')\n",
    "    not_malyalam_count=labels.count('Not-Malayalam')\n",
    "    count_of_all_labels=[positive_count,negative_count,neutral_count,mixed_feelings_count,not_malyalam_count]\n",
    "    \n",
    "    count_of_all_labels.sort(reverse=True)\n",
    "    # print(count_of)\n",
    "    if(count_of_all_labels[0]==count_of_all_labels[1]):\n",
    "        return True\n",
    "    else: \n",
    "        return False"
   ]
  },
  {
   "cell_type": "code",
   "execution_count": 10,
   "metadata": {},
   "outputs": [],
   "source": [
    "def find_disagreements(df,numOfLabels):\n",
    "   # Assuming df is your DataFrame\n",
    "    \n",
    "    if numOfLabels == 2:  \n",
    "      column_indices = [2, 3]  # There are two columns for labels\n",
    "    elif numOfLabels == 3:\n",
    "      column_indices = [2, 3, 4]\n",
    "    elif numOfLabels == 4:\n",
    "      column_indices = [2, 3, 4, 5]\n",
    "    elif numOfLabels == 5:\n",
    "      column_indices = [2, 3, 4, 5, 6]\n",
    "    elif numOfLabels == 6:\n",
    "      column_indices = [2, 3, 4, 5, 6, 7]\n",
    "    elif numOfLabels == 7:\n",
    "      column_indices = [2, 3, 4, 5, 6, 7, 8]\n",
    "    # Creating a mask to identify rows with duplicates in the specified columns\n",
    "    # If there are only 2 unique values when you look at the three columns, then set duplicates to True\n",
    "    df['Disagreement'] = df.apply(lambda row: check_disagreement(row,column_indices),axis=1)\n",
    "    disagreements_df = df[df['Disagreement']==True].copy()\n",
    "\n",
    "    print(disagreements_df)\n",
    "\n",
    "    return disagreements_df"
   ]
  },
  {
   "cell_type": "code",
   "execution_count": 1,
   "metadata": {},
   "outputs": [],
   "source": [
    "def export_to_excel(export_df,name):\n",
    "    # You can choose to save this DataFrame as an Excel file\n",
    "    # file_path = name '.xlsx'\n",
    "    export_df.to_excel(f'/Users/sachin/Downloads/Assessing Labels/Disagreement/Resolve_Disagreements_{name}.xlsx', index=False)\n",
    "    print(\"exporting\")"
   ]
  },
  {
   "cell_type": "code",
   "execution_count": 8,
   "metadata": {},
   "outputs": [],
   "source": [
    "def start_process(name,path,numOfLabels):\n",
    "    # Specify the directory where your xlsx files are stored\n",
    "    directory = path+f'/{name}.xlsx'\n",
    "    data = fetch_annotation_sheet(directory)\n",
    "    export_df = find_disagreements(data,numOfLabels)\n",
    "    print(export_df)\n",
    "    export_to_excel(export_df,name)"
   ]
  },
  {
   "cell_type": "code",
   "execution_count": 11,
   "metadata": {},
   "outputs": [
    {
     "name": "stdout",
     "output_type": "stream",
     "text": [
      "Empty DataFrame\n",
      "Columns: [id, text, Participant 1, Participant 2, Participant 4, Participant 6, Participant 3, Participant 5, Me, Disagreement]\n",
      "Index: []\n",
      "Empty DataFrame\n",
      "Columns: [id, text, Participant 1, Participant 2, Participant 4, Participant 6, Participant 3, Participant 5, Me, Disagreement]\n",
      "Index: []\n",
      "exporting\n",
      "Empty DataFrame\n",
      "Columns: [id, text, Participant 1, Participant 6, Participant 5, Participant 3, Participant 2, Label, Me, Disagreement]\n",
      "Index: []\n",
      "Empty DataFrame\n",
      "Columns: [id, text, Participant 1, Participant 6, Participant 5, Participant 3, Participant 2, Label, Me, Disagreement]\n",
      "Index: []\n",
      "exporting\n",
      "Empty DataFrame\n",
      "Columns: [id, text, Participant 3, Participant 4, Participant 1_6, Participant 5, Participant 2, Label, Me, Disagreement]\n",
      "Index: []\n",
      "Empty DataFrame\n",
      "Columns: [id, text, Participant 3, Participant 4, Participant 1_6, Participant 5, Participant 2, Label, Me, Disagreement]\n",
      "Index: []\n",
      "exporting\n",
      "Empty DataFrame\n",
      "Columns: [id, text, Participant 3, Participant 4, Participant 1_6, Participant 5, Participant 2, Label, Me, Disagreement]\n",
      "Index: []\n",
      "Empty DataFrame\n",
      "Columns: [id, text, Participant 3, Participant 4, Participant 1_6, Participant 5, Participant 2, Label, Me, Disagreement]\n",
      "Index: []\n",
      "exporting\n",
      "Empty DataFrame\n",
      "Columns: [id, text, Participant 5, Participant 6, Participant 1&2, Participant 4, Participant 3, Label, Me, Disagreement]\n",
      "Index: []\n",
      "Empty DataFrame\n",
      "Columns: [id, text, Participant 5, Participant 6, Participant 1&2, Participant 4, Participant 3, Label, Me, Disagreement]\n",
      "Index: []\n",
      "exporting\n",
      "Empty DataFrame\n",
      "Columns: [id, text, Participant 5, Participant 6, Participant 1&2, Participant 4, Participant 3, Label, Me, Disagreement]\n",
      "Index: []\n",
      "Empty DataFrame\n",
      "Columns: [id, text, Participant 5, Participant 6, Participant 1&2, Participant 4, Participant 3, Label, Me, Disagreement]\n",
      "Index: []\n",
      "exporting\n"
     ]
    }
   ],
   "source": [
    "name=['Participants_1_2_4_6_3','Participants_1_6_5_3_2','Participants_3_4_1_6_5_2_V0','Participants_3_4_1_6_5_2_V1','Participants_5_6_2_1_4_3_V0','Participants_5_6_2_1_4_3_V1']\n",
    "\n",
    "path = f'/Users/sachin/Downloads/Assessing Labels/6th Stage - need to remove agreements'\n",
    "\n",
    "numOfLabels=7\n",
    "for i in name:\n",
    "    start_process(i,path,numOfLabels)"
   ]
  },
  {
   "cell_type": "code",
   "execution_count": null,
   "metadata": {},
   "outputs": [],
   "source": []
  }
 ],
 "metadata": {
  "kernelspec": {
   "display_name": "ml_env",
   "language": "python",
   "name": "python3"
  },
  "language_info": {
   "codemirror_mode": {
    "name": "ipython",
    "version": 3
   },
   "file_extension": ".py",
   "mimetype": "text/x-python",
   "name": "python",
   "nbconvert_exporter": "python",
   "pygments_lexer": "ipython3",
   "version": "3.12.2"
  }
 },
 "nbformat": 4,
 "nbformat_minor": 2
}
