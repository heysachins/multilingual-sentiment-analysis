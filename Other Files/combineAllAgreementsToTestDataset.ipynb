{
 "cells": [
  {
   "cell_type": "code",
   "execution_count": 22,
   "metadata": {},
   "outputs": [],
   "source": [
    "import pandas as pd\n",
    "import pathlib as Path"
   ]
  },
  {
   "cell_type": "code",
   "execution_count": 23,
   "metadata": {},
   "outputs": [
    {
     "name": "stdout",
     "output_type": "stream",
     "text": [
      "/Users/sachin/Downloads/Assessing Labels/Agreements\n"
     ]
    }
   ],
   "source": [
    "# Specify the path to the main folder\n",
    "main_folder_path = '/Users/sachin/Downloads/Assessing Labels/Agreements'\n",
    "\n",
    "# Create a Path object\n",
    "main_folder = Path.Path(main_folder_path)\n",
    "\n",
    "print(main_folder)\n",
    "\n",
    "# List to hold DataFrames\n",
    "dfs = []\n",
    "\n",
    "# Loop through each Excel file found in any subdirectory of the main folder\n",
    "for excel_file in main_folder.rglob('*.xlsx'):  # Change '*.xlsx' to '*.xls' if needed\n",
    "    # Read the Excel file and append it to the list of DataFrames\n",
    "    df = pd.read_excel(excel_file, engine='openpyxl')  # Make sure to specify the engine if needed\n",
    "    dfs.append(df)\n",
    "\n",
    "# Concatenate all DataFrames in the list into a single DataFrame\n",
    "combined_df = pd.concat(dfs, ignore_index=True)\n",
    "\n"
   ]
  },
  {
   "cell_type": "code",
   "execution_count": 24,
   "metadata": {},
   "outputs": [
    {
     "name": "stdout",
     "output_type": "stream",
     "text": [
      "               id                                               text  \\\n",
      "764      ml_sen_1            Bollywood film Newton inte remake aano?   \n",
      "278      ml_sen_2  endukond viewrs koodunnilla ?? ippozhum 2.8m a...   \n",
      "765      ml_sen_3  Mara paazhu mega mairananil ninnum ethil koodu...   \n",
      "766      ml_sen_4                       Video nay cang xem cang thit   \n",
      "546      ml_sen_5  Sunny chechiye kaanan vannathu njan maathram aano   \n",
      "...           ...                                                ...   \n",
      "1345  ml_sen_1344                          143k views and 145k likes   \n",
      "494   ml_sen_1345               Nasik doll tiltle bgm aane highlight   \n",
      "66    ml_sen_1346  Mohanlalile ishtapetta vekthiyayirunnu njan pa...   \n",
      "1346  ml_sen_1347            ivaruku ivlo age nu sonna evan nambuvan   \n",
      "1347  ml_sen_1348  Kanditt Amala Paul Aadai tamil mattoru version...   \n",
      "\n",
      "           Agreement  id_numeric  \n",
      "764          Neutral           1  \n",
      "278   Mixed feelings           2  \n",
      "765         Negative           3  \n",
      "766    Not-Malayalam           4  \n",
      "546         Positive           5  \n",
      "...              ...         ...  \n",
      "1345   Not-Malayalam        1344  \n",
      "494         Positive        1345  \n",
      "66    Mixed feelings        1346  \n",
      "1346   Not-Malayalam        1347  \n",
      "1347  Mixed feelings        1348  \n",
      "\n",
      "[1348 rows x 4 columns]\n"
     ]
    }
   ],
   "source": [
    "# print(combined_df)\n",
    "combined_df['id_numeric']=combined_df['id'].apply(lambda x: int(x[7:]))\n",
    "\n",
    "# print(combined_df)\n",
    "\n",
    "combined_df_sorted=combined_df.sort_values(by='id_numeric',ascending=True)\n",
    "print(combined_df_sorted)\n",
    "\n",
    "columnsToDrop=combined_df_sorted.columns[3]\n",
    "combined_df_df=combined_df_sorted.drop(columns=columnsToDrop)\n",
    "combined_df_df['Agreement'] = combined_df_df['Agreement'].replace({'Mixed feelings': 'Mixed_feelings'})\n",
    "\n",
    "combined_df_df.to_excel(f'/Users/sachin/Downloads/Assessing Labels/Agreements/Re-AnnotatedDataset.xlsx', index=False)"
   ]
  },
  {
   "cell_type": "code",
   "execution_count": 25,
   "metadata": {},
   "outputs": [
    {
     "name": "stdout",
     "output_type": "stream",
     "text": [
      "Duplicate Rows based on the 'id' column:\n",
      "Empty DataFrame\n",
      "Columns: [id, text, Agreement]\n",
      "Index: []\n"
     ]
    }
   ],
   "source": [
    "\n",
    "\n",
    "# # Check if there are any duplicates in the 'id' column\n",
    "# has_duplicates = combined_df_df['id'].duplicated().any()\n",
    "# Finding the duplicates\n",
    "duplicates = combined_df_df[combined_df_df['id'].duplicated(keep=False)]\n",
    "\n",
    "print(\"Duplicate Rows based on the 'id' column:\")\n",
    "print(duplicates)"
   ]
  }
 ],
 "metadata": {
  "kernelspec": {
   "display_name": "ml_env",
   "language": "python",
   "name": "python3"
  },
  "language_info": {
   "codemirror_mode": {
    "name": "ipython",
    "version": 3
   },
   "file_extension": ".py",
   "mimetype": "text/x-python",
   "name": "python",
   "nbconvert_exporter": "python",
   "pygments_lexer": "ipython3",
   "version": "3.12.2"
  }
 },
 "nbformat": 4,
 "nbformat_minor": 2
}
