{
 "cells": [
  {
   "cell_type": "markdown",
   "metadata": {},
   "source": [
    "# Import Statements"
   ]
  },
  {
   "cell_type": "code",
   "execution_count": 1,
   "metadata": {},
   "outputs": [],
   "source": [
    "import pandas as pd # Imported to enable the use of datastructures like dataframe\n",
    "import numpy as np # Imported for calculations\n",
    "from sklearn.feature_extraction.text import TfidfVectorizer # Imported to convert raw documents into a matrix of tf idf features\n",
    "from sklearn.model_selection import train_test_split # Imported to enable the user to split the data into train, test samples\n",
    "from sklearn.metrics import classification_report, accuracy_score # Imported to calculate the accuracy and also print the classification report\n",
    "from sklearn.metrics import confusion_matrix, classification_report, accuracy_score # for report generation"
   ]
  },
  {
   "cell_type": "markdown",
   "metadata": {},
   "source": [
    "# Importing the dataset"
   ]
  },
  {
   "cell_type": "code",
   "execution_count": 2,
   "metadata": {},
   "outputs": [
    {
     "name": "stdout",
     "output_type": "stream",
     "text": [
      "             category                                               text\n",
      "0      unknown_state    Ichayan fans pinne mmade ettan fansm ivde oru...\n",
      "1      not-malayalam              Tovi 🥰 Best Wishes From #Kunjikka Fans\n",
      "2      unknown_state    Urutty koll .nallavanaaya unniyaya saiju kuru...\n",
      "3      not-malayalam    Pls support me pls       My channel subscribe...\n",
      "4           Positive      Kalki super hit akum enn Bonny parayan paranju\n",
      "...               ...                                                ...\n",
      "6734        Positive      Jayettanu eduthal pongayha role aan...next idi\n",
      "6735        Positive                 This looks like... Thrishur pooram.\n",
      "6736        Negative    Mammukka verum vishayam engneru eth enthonn c...\n",
      "6737  Mixed_feelings    Pulikku pakaram patti odande vere mattam onnu...\n",
      "6738        Positive    Ithin dislike addikunavar lokka tholvikallayi...\n",
      "\n",
      "[6739 rows x 2 columns]\n"
     ]
    }
   ],
   "source": [
    "df = pd.read_csv('malayalam.tsv', sep='\\t')\n",
    "print(df)"
   ]
  },
  {
   "cell_type": "markdown",
   "metadata": {},
   "source": [
    "# Exploring the dataset"
   ]
  },
  {
   "cell_type": "code",
   "execution_count": 3,
   "metadata": {},
   "outputs": [
    {
     "name": "stdout",
     "output_type": "stream",
     "text": [
      "(6739, 2)\n"
     ]
    },
    {
     "data": {
      "text/html": [
       "<div>\n",
       "<style scoped>\n",
       "    .dataframe tbody tr th:only-of-type {\n",
       "        vertical-align: middle;\n",
       "    }\n",
       "\n",
       "    .dataframe tbody tr th {\n",
       "        vertical-align: top;\n",
       "    }\n",
       "\n",
       "    .dataframe thead th {\n",
       "        text-align: right;\n",
       "    }\n",
       "</style>\n",
       "<table border=\"1\" class=\"dataframe\">\n",
       "  <thead>\n",
       "    <tr style=\"text-align: right;\">\n",
       "      <th></th>\n",
       "      <th>category</th>\n",
       "      <th>text</th>\n",
       "    </tr>\n",
       "  </thead>\n",
       "  <tbody>\n",
       "    <tr>\n",
       "      <th>0</th>\n",
       "      <td>unknown_state</td>\n",
       "      <td>Ichayan fans pinne mmade ettan fansm ivde oru...</td>\n",
       "    </tr>\n",
       "    <tr>\n",
       "      <th>1</th>\n",
       "      <td>not-malayalam</td>\n",
       "      <td>Tovi 🥰 Best Wishes From #Kunjikka Fans</td>\n",
       "    </tr>\n",
       "    <tr>\n",
       "      <th>2</th>\n",
       "      <td>unknown_state</td>\n",
       "      <td>Urutty koll .nallavanaaya unniyaya saiju kuru...</td>\n",
       "    </tr>\n",
       "    <tr>\n",
       "      <th>3</th>\n",
       "      <td>not-malayalam</td>\n",
       "      <td>Pls support me pls       My channel subscribe...</td>\n",
       "    </tr>\n",
       "    <tr>\n",
       "      <th>4</th>\n",
       "      <td>Positive</td>\n",
       "      <td>Kalki super hit akum enn Bonny parayan paranju</td>\n",
       "    </tr>\n",
       "  </tbody>\n",
       "</table>\n",
       "</div>"
      ],
      "text/plain": [
       "         category                                               text\n",
       "0  unknown_state    Ichayan fans pinne mmade ettan fansm ivde oru...\n",
       "1  not-malayalam              Tovi 🥰 Best Wishes From #Kunjikka Fans\n",
       "2  unknown_state    Urutty koll .nallavanaaya unniyaya saiju kuru...\n",
       "3  not-malayalam    Pls support me pls       My channel subscribe...\n",
       "4       Positive      Kalki super hit akum enn Bonny parayan paranju"
      ]
     },
     "execution_count": 3,
     "metadata": {},
     "output_type": "execute_result"
    }
   ],
   "source": [
    "print(df.shape)\n",
    "df.head()"
   ]
  },
  {
   "cell_type": "markdown",
   "metadata": {},
   "source": [
    "# Import Statements"
   ]
  },
  {
   "cell_type": "code",
   "execution_count": null,
   "metadata": {},
   "outputs": [],
   "source": [
    "import pandas as pd # Imported to enable the use of datastructures like dataframe\n",
    "import numpy as np # Imported for calculations\n",
    "from sklearn.feature_extraction.text import TfidfVectorizer # Imported to convert raw documents into a matrix of tf idf features\n",
    "from sklearn.model_selection import train_test_split # Imported to enable the user to split the data into train, test samples\n",
    "from sklearn.metrics import classification_report, accuracy_score # Imported to calculate the accuracy and also print the classification report\n",
    "from sklearn.metrics import confusion_matrix, classification_report, accuracy_score # for report generation"
   ]
  },
  {
   "cell_type": "markdown",
   "metadata": {},
   "source": [
    "# Importing the dataset"
   ]
  },
  {
   "cell_type": "code",
   "execution_count": null,
   "metadata": {},
   "outputs": [
    {
     "name": "stdout",
     "output_type": "stream",
     "text": [
      "             category                                               text\n",
      "0      unknown_state    Ichayan fans pinne mmade ettan fansm ivde oru...\n",
      "1      not-malayalam              Tovi 🥰 Best Wishes From #Kunjikka Fans\n",
      "2      unknown_state    Urutty koll .nallavanaaya unniyaya saiju kuru...\n",
      "3      not-malayalam    Pls support me pls       My channel subscribe...\n",
      "4           Positive      Kalki super hit akum enn Bonny parayan paranju\n",
      "...               ...                                                ...\n",
      "6734        Positive      Jayettanu eduthal pongayha role aan...next idi\n",
      "6735        Positive                 This looks like... Thrishur pooram.\n",
      "6736        Negative    Mammukka verum vishayam engneru eth enthonn c...\n",
      "6737  Mixed_feelings    Pulikku pakaram patti odande vere mattam onnu...\n",
      "6738        Positive    Ithin dislike addikunavar lokka tholvikallayi...\n",
      "\n",
      "[6739 rows x 2 columns]\n"
     ]
    }
   ],
   "source": [
    "df = pd.read_csv('malayalam.tsv', sep='\\t')\n",
    "print(df)"
   ]
  },
  {
   "cell_type": "markdown",
   "metadata": {},
   "source": [
    "# Exploring the dataset"
   ]
  },
  {
   "cell_type": "code",
   "execution_count": null,
   "metadata": {},
   "outputs": [
    {
     "name": "stdout",
     "output_type": "stream",
     "text": [
      "(6739, 2)\n"
     ]
    },
    {
     "data": {
      "text/html": [
       "<div>\n",
       "<style scoped>\n",
       "    .dataframe tbody tr th:only-of-type {\n",
       "        vertical-align: middle;\n",
       "    }\n",
       "\n",
       "    .dataframe tbody tr th {\n",
       "        vertical-align: top;\n",
       "    }\n",
       "\n",
       "    .dataframe thead th {\n",
       "        text-align: right;\n",
       "    }\n",
       "</style>\n",
       "<table border=\"1\" class=\"dataframe\">\n",
       "  <thead>\n",
       "    <tr style=\"text-align: right;\">\n",
       "      <th></th>\n",
       "      <th>category</th>\n",
       "      <th>text</th>\n",
       "    </tr>\n",
       "  </thead>\n",
       "  <tbody>\n",
       "    <tr>\n",
       "      <th>0</th>\n",
       "      <td>unknown_state</td>\n",
       "      <td>Ichayan fans pinne mmade ettan fansm ivde oru...</td>\n",
       "    </tr>\n",
       "    <tr>\n",
       "      <th>1</th>\n",
       "      <td>not-malayalam</td>\n",
       "      <td>Tovi 🥰 Best Wishes From #Kunjikka Fans</td>\n",
       "    </tr>\n",
       "    <tr>\n",
       "      <th>2</th>\n",
       "      <td>unknown_state</td>\n",
       "      <td>Urutty koll .nallavanaaya unniyaya saiju kuru...</td>\n",
       "    </tr>\n",
       "    <tr>\n",
       "      <th>3</th>\n",
       "      <td>not-malayalam</td>\n",
       "      <td>Pls support me pls       My channel subscribe...</td>\n",
       "    </tr>\n",
       "    <tr>\n",
       "      <th>4</th>\n",
       "      <td>Positive</td>\n",
       "      <td>Kalki super hit akum enn Bonny parayan paranju</td>\n",
       "    </tr>\n",
       "  </tbody>\n",
       "</table>\n",
       "</div>"
      ],
      "text/plain": [
       "         category                                               text\n",
       "0  unknown_state    Ichayan fans pinne mmade ettan fansm ivde oru...\n",
       "1  not-malayalam              Tovi 🥰 Best Wishes From #Kunjikka Fans\n",
       "2  unknown_state    Urutty koll .nallavanaaya unniyaya saiju kuru...\n",
       "3  not-malayalam    Pls support me pls       My channel subscribe...\n",
       "4       Positive      Kalki super hit akum enn Bonny parayan paranju"
      ]
     },
     "metadata": {},
     "output_type": "display_data"
    }
   ],
   "source": [
    "print(df.shape)\n",
    "df.head()"
   ]
  },
  {
   "cell_type": "code",
   "execution_count": null,
   "metadata": {},
   "outputs": [
    {
     "name": "stdout",
     "output_type": "stream",
     "text": [
      "Positive          2811\n",
      "Neutral           1903\n",
      "Not-Malayalam      884\n",
      "Negative           738\n",
      "Mixed_feelings     403\n",
      "Name: category, dtype: int64\n"
     ]
    }
   ],
   "source": [
    "# Renaming the classes\n",
    "\n",
    "# Removing any leading/trailing spaces\n",
    "df['category'] = df['category'].str.strip()\n",
    "\n",
    "# Replacing 'unknown_state' with 'Irrelevant'\n",
    "df['category'] = df['category'].replace({'unknown_state': 'Neutral'})\n",
    "df['category'] = df['category'].replace({'not-malayalam': 'Not-Malayalam'})\n",
    "\n",
    "# Viewing the number of items in each class after replacement\n",
    "print(df['category'].value_counts())  # Used to view the number of items in each class.\n",
    "\n",
    "## There is a significant imbalance in the classes in this dataset"
   ]
  },
  {
   "cell_type": "code",
   "execution_count": null,
   "metadata": {},
   "outputs": [
    {
     "name": "stdout",
     "output_type": "stream",
     "text": [
      "Training Dataset: 4717\n",
      "Test Dataset: 1348\n",
      "Validation Dataset: 674\n"
     ]
    }
   ],
   "source": [
    "# Splitting the dataset\n",
    "\n",
    "# Training Set: 70%\n",
    "# Test Set: 20%\n",
    "# Validation Set: 10%\n",
    "\n",
    "X_train, X_temp, y_train, y_temp = train_test_split(\n",
    "    df.text, \n",
    "    df.category,\n",
    "    test_size=.3, # 30% of samples will be present in temporary dataset\n",
    "    random_state=42)\n",
    "\n",
    "X_test, X_val, y_test, y_val = train_test_split(\n",
    "    X_temp, \n",
    "    y_temp,\n",
    "    test_size=1/3, # 10% -> X_val and rest 20% -> X_test\n",
    "    random_state=42)\n",
    "\n",
    "print(\"Training Dataset:\" ,X_train.shape[0])\n",
    "print(\"Test Dataset:\",X_test.shape[0])\n",
    "print(\"Validation Dataset:\",X_val.shape[0])\n",
    "# print(X_test,y_test)\n",
    "# print(X_val,y_val)"
   ]
  },
  {
   "cell_type": "code",
   "execution_count": null,
   "metadata": {},
   "outputs": [],
   "source": []
  },
  {
   "cell_type": "code",
   "execution_count": 4,
   "metadata": {},
   "outputs": [
    {
     "name": "stdout",
     "output_type": "stream",
     "text": [
      "Positive          2811\n",
      "Neutral           1903\n",
      "Not-Malayalam      884\n",
      "Negative           738\n",
      "Mixed_feelings     403\n",
      "Name: category, dtype: int64\n"
     ]
    }
   ],
   "source": [
    "# Renaming the classes\n",
    "\n",
    "# Removing any leading/trailing spaces\n",
    "df['category'] = df['category'].str.strip()\n",
    "\n",
    "# Replacing 'unknown_state' with 'Irrelevant'\n",
    "df['category'] = df['category'].replace({'unknown_state': 'Neutral'})\n",
    "df['category'] = df['category'].replace({'not-malayalam': 'Not-Malayalam'})\n",
    "\n",
    "# Viewing the number of items in each class after replacement\n",
    "print(df['category'].value_counts())  # Used to view the number of items in each class.\n",
    "\n",
    "## There is a significant imbalance in the classes in this dataset"
   ]
  },
  {
   "cell_type": "code",
   "execution_count": 13,
   "metadata": {},
   "outputs": [
    {
     "name": "stdout",
     "output_type": "stream",
     "text": [
      "Training Dataset: 4717\n",
      "Test Dataset: 1348\n",
      "Validation Dataset: 674\n"
     ]
    }
   ],
   "source": [
    "# Splitting the dataset\n",
    "\n",
    "# Training Set: 70%\n",
    "# Test Set: 20%\n",
    "# Validation Set: 10%\n",
    "\n",
    "X_train, X_temp, y_train, y_temp = train_test_split(\n",
    "    df.text, \n",
    "    df.category,\n",
    "    test_size=.3, # 30% of samples will be present in temporary dataset\n",
    "    random_state=42)\n",
    "\n",
    "X_test, X_val, y_test, y_val = train_test_split(\n",
    "    X_temp, \n",
    "    y_temp,\n",
    "    test_size=1/3, # 10% -> X_val and rest 20% -> X_test\n",
    "    random_state=42)\n",
    "\n",
    "print(\"Training Dataset:\" ,X_train.shape[0])\n",
    "print(\"Test Dataset:\",X_test.shape[0])\n",
    "print(\"Validation Dataset:\",X_val.shape[0])\n",
    "# print(X_test,y_test)\n",
    "# print(X_val,y_val)"
   ]
  },
  {
   "cell_type": "code",
   "execution_count": null,
   "metadata": {},
   "outputs": [],
   "source": []
  }
 ],
 "metadata": {
  "kernelspec": {
   "display_name": "base",
   "language": "python",
   "name": "python3"
  },
  "language_info": {
   "codemirror_mode": {
    "name": "ipython",
    "version": 3
   },
   "file_extension": ".py",
   "mimetype": "text/x-python",
   "name": "python",
   "nbconvert_exporter": "python",
   "pygments_lexer": "ipython3",
   "version": "3.11.4"
  }
 },
 "nbformat": 4,
 "nbformat_minor": 2
}
